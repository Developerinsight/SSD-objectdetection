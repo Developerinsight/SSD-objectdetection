{
 "cells": [
  {
   "cell_type": "markdown",
   "metadata": {},
   "source": [
    "# 2.7 학습 및 검증 실시\n",
    "\n",
    "- SSD 학습과 검증의 실시를 수행합니다. 로컬 머신으로 동작을 확인한 뒤, AWS의 GPU 머신으로 계산합니다.\n",
    "- p2.xlarge에서 약 6시간 걸립니다.\n"
   ]
  },
  {
   "cell_type": "markdown",
   "metadata": {},
   "source": [
    "# 학습 목표\n",
    "\n",
    "1.\tSSD 학습을 구현할 수 있다"
   ]
  },
  {
   "cell_type": "markdown",
   "metadata": {},
   "source": [
    "# 사전 준비\n",
    "\n",
    "- AWS EC2의 GPU 인스턴스를 사용합니다\n",
    "- \"utils\" 폴더의 ssd_model.py를 실행합니다"
   ]
  },
  {
   "cell_type": "code",
   "execution_count": 10,
   "metadata": {},
   "outputs": [],
   "source": [
    "# 패키지 import\n",
    "import os.path as osp\n",
    "import random\n",
    "import time\n",
    "\n",
    "import cv2\n",
    "import numpy as np\n",
    "import pandas as pd\n",
    "import torch\n",
    "import torch.nn as nn\n",
    "import torch.nn.init as init\n",
    "import torch.optim as optim\n",
    "import torch.utils.data as data"
   ]
  },
  {
   "cell_type": "code",
   "execution_count": 11,
   "metadata": {},
   "outputs": [],
   "source": [
    "# 난수 시드 설정\n",
    "torch.manual_seed(1234)\n",
    "np.random.seed(1234)\n",
    "random.seed(1234)"
   ]
  },
  {
   "cell_type": "code",
   "execution_count": 12,
   "metadata": {},
   "outputs": [
    {
     "name": "stdout",
     "output_type": "stream",
     "text": [
      "사용 중인 장치: cuda:0\n"
     ]
    }
   ],
   "source": [
    "device = torch.device(\"cuda:0\" if torch.cuda.is_available() else \"cpu\")\n",
    "print(\"사용 중인 장치:\", device)"
   ]
  },
  {
   "cell_type": "markdown",
   "metadata": {},
   "source": [
    "# Dataset과 DataLoader를 작성한다"
   ]
  },
  {
   "cell_type": "code",
   "execution_count": 13,
   "metadata": {},
   "outputs": [],
   "source": [
    "from utils.ssd_model_modified import make_datapath_list, VOCDataset, DataTransform, Anno_xml2list, od_collate_fn\n",
    "\n",
    "# 파일 경로 리스트를 취득\n",
    "rootpath = \"./data/VOCdevkit/VOC2012/\"\n",
    "train_img_list, train_anno_list, val_img_list, val_anno_list = make_datapath_list(\n",
    "    rootpath)\n",
    "\n",
    "# Dataset 작성\n",
    "voc_classes = ['aeroplane', 'bicycle', 'bird', 'boat',\n",
    "               'bottle', 'bus', 'car', 'cat', 'chair',\n",
    "               'cow', 'diningtable', 'dog', 'horse',\n",
    "               'motorbike', 'person', 'pottedplant',\n",
    "               'sheep', 'sofa', 'train', 'tvmonitor']\n",
    "color_mean = (104, 117, 123)  # (BGR) 색의 평균값\n",
    "input_size = 300  # 이미지의 input 크기를 300×300으로 설정\n",
    "\n",
    "class_distribution = {\n",
    " 'person': 0.4335293238327769,\n",
    " 'train': 0.017539488763765012,\n",
    " 'chair': 0.07613732622452539,\n",
    " 'diningtable': 0.019931237231551147,\n",
    " 'boat': 0.026383975285265832,\n",
    " 'bus': 0.017066121879515672,\n",
    " 'car': 0.06208580397628183,\n",
    " 'horse': 0.020005979371169467,\n",
    " 'tvmonitor': 0.02224824355971897,\n",
    " 'bottle': 0.03889082664806418,\n",
    " 'pottedplant': 0.029946683940405602,\n",
    " 'cat': 0.03181523743086352,\n",
    " 'bird': 0.03166575315162689,\n",
    " 'cow': 0.01920872988190742,\n",
    " 'dog': 0.03981264637002342,\n",
    " 'aeroplane': 0.024963874632517813,\n",
    " 'bicycle': 0.02085305695351039,\n",
    " 'sofa': 0.020952713139668146,\n",
    " 'motorbike': 0.019956151278090587,\n",
    " 'sheep': 0.027006826448751808\n",
    "}\n",
    "\n",
    "class_sample_counts = {\n",
    " 'person': 17401,\n",
    " 'train': 704,\n",
    " 'chair': 3056,\n",
    " 'diningtable': 800,\n",
    " 'boat': 1059,\n",
    " 'bus': 685,\n",
    " 'car': 2492,\n",
    " 'horse': 803,\n",
    " 'tvmonitor': 893,\n",
    " 'bottle': 1561,\n",
    " 'pottedplant': 1202,\n",
    " 'cat': 1277,\n",
    " 'bird': 1271,\n",
    " 'cow': 771,\n",
    " 'dog': 1598,\n",
    " 'aeroplane': 1002,\n",
    " 'bicycle': 837,\n",
    " 'sofa': 841,\n",
    " 'motorbike': 801,\n",
    " 'sheep': 1084\n",
    "}\n",
    "train_dataset = VOCDataset(train_img_list, train_anno_list, phase=\"train\", transform=DataTransform(\n",
    "    input_size, color_mean), transform_anno=Anno_xml2list(voc_classes))\n",
    "\n",
    "val_dataset = VOCDataset(val_img_list, val_anno_list, phase=\"val\", transform=DataTransform(\n",
    "    input_size, color_mean), transform_anno=Anno_xml2list(voc_classes))\n",
    "\n",
    "\n",
    "# DataLoader를 작성\n",
    "batch_size = 32\n",
    "\n",
    "train_dataloader = data.DataLoader(\n",
    "    train_dataset, batch_size=batch_size, shuffle=True, collate_fn=od_collate_fn)\n",
    "\n",
    "val_dataloader = data.DataLoader(\n",
    "    val_dataset, batch_size=batch_size, shuffle=False, collate_fn=od_collate_fn)\n",
    "\n",
    "# 사전 오브젝트로 정리\n",
    "dataloaders_dict = {\"train\": train_dataloader, \"val\": val_dataloader}\n"
   ]
  },
  {
   "cell_type": "markdown",
   "metadata": {},
   "source": [
    "# 네트워크 모델을 작성한다"
   ]
  },
  {
   "cell_type": "code",
   "execution_count": 14,
   "metadata": {},
   "outputs": [
    {
     "name": "stdout",
     "output_type": "stream",
     "text": [
      "사용 중인 장치: cuda:0\n",
      "네트워크 설정 완료: 학습된 가중치를 로드했습니다\n"
     ]
    }
   ],
   "source": [
    "from utils.hj_ssd_model_modified import SSD\n",
    "\n",
    "# SSD300 설정\n",
    "ssd_cfg = {\n",
    "            'num_classes': 21,\n",
    "            'input_size': 300,  # 이미지의 입력 크기\\n\",\n",
    "            'bbox_aspect_num': [4, 6, 6, 6,6, 4, 4, 4],  # 출력할 DBox의 화면비의 종류\\n\",\n",
    "             'feature_maps': [38, 19,19, 10, 5, 3,3, 1],  # 각 source의 이미지 크기\\n\",\n",
    "                  'steps': [8, 16, 16, 32, 64, 100, 100, 300],\n",
    "                'min_sizes': [30, 60, 60, 111, 162, 213,213 , 264],  # DBOX의 크기(최소)\\n\",\n",
    "             'max_sizes': [60, 111, 111, 162, 213, 264, 264, 315],  # DBOX의 크기(최대)\\n\",\n",
    "                 'aspect_ratios': [[2], [2,3], [2, 3], [2, 3], [2, 3], [2], [2], [2]]}\n",
    "\n",
    "# SSD 네트워크 모델\n",
    "net = SSD(phase=\"train\", cfg=ssd_cfg)\n",
    "\n",
    "# SSD의 초기 가중치를 설정\n",
    "# ssd의 vgg 부분에 가중치를 로드한다\n",
    "vgg_weights = torch.load('./weights/vgg16_reducedfc.pth')\n",
    "net.vgg.load_state_dict(vgg_weights)\n",
    "\n",
    "# ssd의 기타 네트워크의 가중치는 He의 초기치로 초기화\n",
    "def weights_init(m):\n",
    "    if isinstance(m, nn.Conv2d):\n",
    "        init.kaiming_normal_(m.weight.data)\n",
    "        if m.bias is not None:  # 바이어스 항이 있는 경우\n",
    "            nn.init.constant_(m.bias, 0.0)\n",
    "\n",
    "\n",
    "# He의 초기치를 적용\n",
    "net.extras.apply(weights_init)\n",
    "net.loc.apply(weights_init)\n",
    "net.conf.apply(weights_init)\n",
    "\n",
    "# GPU를 사용할 수 있는지 확인\n",
    "device = torch.device(\"cuda:0\" if torch.cuda.is_available() else \"cpu\")\n",
    "print(\"사용 중인 장치:\", device)\n",
    "\n",
    "print('네트워크 설정 완료: 학습된 가중치를 로드했습니다')\n"
   ]
  },
  {
   "cell_type": "markdown",
   "metadata": {},
   "source": [
    "# 손실함수 및 최적화 기법의 설정"
   ]
  },
  {
   "cell_type": "code",
   "execution_count": 15,
   "metadata": {},
   "outputs": [],
   "source": [
    "from utils.ssd_model import MultiBoxLoss\n",
    "\n",
    "# 손실함수의 설정\n",
    "criterion = MultiBoxLoss(jaccard_thresh=0.5, neg_pos=3, device=device)\n",
    "\n",
    "# 최적화 기법의 설정\n",
    "optimizer = optim.SGD(net.parameters(), lr=1e-3,\n",
    "                      momentum=0.9, weight_decay=5e-4)\n"
   ]
  },
  {
   "cell_type": "markdown",
   "metadata": {},
   "source": [
    "# 학습 및 검증을 실시"
   ]
  },
  {
   "cell_type": "code",
   "execution_count": 16,
   "metadata": {},
   "outputs": [],
   "source": [
    "import tqdm\n",
    "\n",
    "# 모델을 학습시키는 함수 작성\n",
    "def train_model(net, dataloaders_dict, criterion, optimizer, num_epochs):\n",
    "\n",
    "    # GPU를 사용할 수 있는지 확인\n",
    "    device = torch.device(\"cuda:0\" if torch.cuda.is_available() else \"cpu\")\n",
    "    print(\"사용 중인 장치:\", device)\n",
    "\n",
    "    # 네트워크를 GPU로\n",
    "    net.to(device)\n",
    "\n",
    "    # 네트워크가 어느 정도 고정되면, 고속화시킨다\n",
    "    torch.backends.cudnn.benchmark = True\n",
    "\n",
    "    # 반복자의 카운터 설정\n",
    "    iteration = 1\n",
    "    epoch_train_loss = 0.0  # epoch의 손실합\n",
    "    epoch_val_loss = 0.0  # epoch의 손실합\n",
    "    logs = []\n",
    "\n",
    "    # epoch 루프\n",
    "    for epoch in range(num_epochs+1):\n",
    "\n",
    "        # 시작 시간을 저장\n",
    "        t_epoch_start = time.time()\n",
    "        t_iter_start = time.time()\n",
    "\n",
    "        print('-------------')\n",
    "        print('Epoch {}/{}'.format(epoch+1, num_epochs))\n",
    "        print('-------------')\n",
    "\n",
    "        # epoch별 훈련 및 검증을 루프\n",
    "        for phase in ['train', 'val']:\n",
    "            if phase == 'train':\n",
    "                net.train()  # 모델을 훈련모드로\n",
    "                print('(train)')\n",
    "            else:\n",
    "                if((epoch+1) % 10 == 0):\n",
    "                    net.eval()   # 모델을 검증모드로\n",
    "                    print('-------------')\n",
    "                    print('(val)')\n",
    "                else:\n",
    "                    # 검증은 10번에 1번만 실시\n",
    "                    continue\n",
    "\n",
    "            # 데이터 로더에서 minibatch씩 꺼내 루프\n",
    "            iterator = tqdm.tqdm(dataloaders_dict[phase])\n",
    "            print(len(dataloaders_dict[phase]))\n",
    "            #for images, targets in dataloaders_dict[phase]:\n",
    "            for images, targets in iterator:\n",
    "                \n",
    "                # GPU를 사용할 수 있으면, GPU에 데이터를 보낸다\n",
    "                images = images.to(device)\n",
    "                targets = [ann.to(device)\n",
    "                           for ann in targets]  # 리스트의 각 요소의 텐서를 GPU로\n",
    "\n",
    "                # optimizer를 초기화\n",
    "                optimizer.zero_grad()\n",
    "\n",
    "                # 순전파(forward) 계산\n",
    "                with torch.set_grad_enabled(phase == 'train'):\n",
    "                    # 순전파(forward) 계산\n",
    "                    outputs = net(images)\n",
    "\n",
    "                    # 손실 계산\n",
    "                    loss_l, loss_c = criterion(outputs, targets)\n",
    "                    loss = loss_l + loss_c\n",
    "\n",
    "                    # 훈련시에는 역전파(Backpropagation)\n",
    "                    if phase == 'train':\n",
    "                        loss.backward()  # 경사 계산\n",
    "\n",
    "                        # 경사가 너무 커지면 계산이 불안정해지므로, clip에서 최대라도 경사 2.0에 고정\n",
    "                        nn.utils.clip_grad_value_(\n",
    "                            net.parameters(), clip_value=2.0)\n",
    "\n",
    "                        optimizer.step()  # 파라미터 갱신\n",
    "\n",
    "                        #if (iteration % 10 == 0):  # 10iter에 한 번, loss를 표시\n",
    "                        t_iter_finish = time.time()\n",
    "                        duration = t_iter_finish - t_iter_start\n",
    "                        iterator.set_description('반복 {} || Loss: {:.4f} || 10iter: {:.4f} sec.'.format(\n",
    "                        iteration, loss.item(), duration))\n",
    "                        t_iter_start = time.time()\n",
    "\n",
    "                        epoch_train_loss += loss.item()\n",
    "                        iteration += 1\n",
    "\n",
    "                    # 검증시\n",
    "                    else:\n",
    "                        epoch_val_loss += loss.item()\n",
    "\n",
    "        # epoch의 phase 당 loss와 정답률\n",
    "        t_epoch_finish = time.time()\n",
    "        epoch_train_loss/=len(dataloaders_dict[phase])\n",
    "        print('epoch {} || Epoch_TRAIN_Loss:{:.4f} ||Epoch_VAL_Loss:{:.4f}'.format(\n",
    "            epoch+1, epoch_train_loss, epoch_val_loss))\n",
    "        print('timer:  {:.4f} sec.'.format(t_epoch_finish - t_epoch_start))\n",
    "        t_epoch_start = time.time()\n",
    "\n",
    "        # 로그를 저장\n",
    "        log_epoch = {'epoch': epoch+1,\n",
    "                     'train_loss': epoch_train_loss, 'val_loss': epoch_val_loss}\n",
    "        logs.append(log_epoch)\n",
    "        df = pd.DataFrame(logs)\n",
    "        df.to_csv(\"log_output_fm_8.csv\")\n",
    "\n",
    "        epoch_train_loss = 0.0  # epoch의 손실합\n",
    "        epoch_val_loss = 0.0  # epoch의 손실합\n",
    "\n",
    "        # 네트워크를 저장한다\n",
    "        if ((epoch+1) % 10 == 0):\n",
    "            torch.save(net.state_dict(), 'weights/ssd300_fm_8' +\n",
    "                       str(epoch+1) + '.pth')\n"
   ]
  },
  {
   "cell_type": "code",
   "execution_count": 17,
   "metadata": {},
   "outputs": [
    {
     "name": "stdout",
     "output_type": "stream",
     "text": [
      "사용 중인 장치: cuda:0\n",
      "-------------\n",
      "Epoch 1/100\n",
      "-------------\n",
      "(train)\n"
     ]
    },
    {
     "name": "stderr",
     "output_type": "stream",
     "text": [
      "  0%|          | 0/179 [00:00<?, ?it/s]"
     ]
    },
    {
     "name": "stdout",
     "output_type": "stream",
     "text": [
      "179\n"
     ]
    },
    {
     "name": "stderr",
     "output_type": "stream",
     "text": [
      "/home/iuser/workspace/objectdetection/utils/data_augumentation.py:246: VisibleDeprecationWarning: Creating an ndarray from ragged nested sequences (which is a list-or-tuple of lists-or-tuples-or ndarrays with different lengths or shapes) is deprecated. If you meant to do this, you must specify 'dtype=object' when creating the ndarray.\n",
      "  mode = random.choice(self.sample_options)\n",
      "반복 179 || Loss: 8.3002 || 10iter: 0.3842 sec.: 100%|██████████| 179/179 [02:12<00:00,  1.35it/s]\n"
     ]
    },
    {
     "name": "stdout",
     "output_type": "stream",
     "text": [
      "epoch 1 || Epoch_TRAIN_Loss:9.7504 ||Epoch_VAL_Loss:0.0000\n",
      "timer:  132.6197 sec.\n",
      "-------------\n",
      "Epoch 2/100\n",
      "-------------\n",
      "(train)\n"
     ]
    },
    {
     "name": "stderr",
     "output_type": "stream",
     "text": [
      "  0%|          | 0/179 [00:00<?, ?it/s]"
     ]
    },
    {
     "name": "stdout",
     "output_type": "stream",
     "text": [
      "179\n"
     ]
    },
    {
     "name": "stderr",
     "output_type": "stream",
     "text": [
      "반복 358 || Loss: 6.9684 || 10iter: 0.3724 sec.: 100%|██████████| 179/179 [02:12<00:00,  1.36it/s]\n"
     ]
    },
    {
     "name": "stdout",
     "output_type": "stream",
     "text": [
      "epoch 2 || Epoch_TRAIN_Loss:7.4882 ||Epoch_VAL_Loss:0.0000\n",
      "timer:  132.0555 sec.\n",
      "-------------\n",
      "Epoch 3/100\n",
      "-------------\n",
      "(train)\n"
     ]
    },
    {
     "name": "stderr",
     "output_type": "stream",
     "text": [
      "  0%|          | 0/179 [00:00<?, ?it/s]"
     ]
    },
    {
     "name": "stdout",
     "output_type": "stream",
     "text": [
      "179\n"
     ]
    },
    {
     "name": "stderr",
     "output_type": "stream",
     "text": [
      "반복 537 || Loss: 7.1465 || 10iter: 0.4433 sec.: 100%|██████████| 179/179 [02:12<00:00,  1.35it/s]\n"
     ]
    },
    {
     "name": "stdout",
     "output_type": "stream",
     "text": [
      "epoch 3 || Epoch_TRAIN_Loss:6.7637 ||Epoch_VAL_Loss:0.0000\n",
      "timer:  132.5059 sec.\n",
      "-------------\n",
      "Epoch 4/100\n",
      "-------------\n",
      "(train)\n"
     ]
    },
    {
     "name": "stderr",
     "output_type": "stream",
     "text": [
      "  0%|          | 0/179 [00:00<?, ?it/s]"
     ]
    },
    {
     "name": "stdout",
     "output_type": "stream",
     "text": [
      "179\n"
     ]
    },
    {
     "name": "stderr",
     "output_type": "stream",
     "text": [
      "반복 716 || Loss: 6.4257 || 10iter: 0.3595 sec.: 100%|██████████| 179/179 [02:12<00:00,  1.35it/s]\n"
     ]
    },
    {
     "name": "stdout",
     "output_type": "stream",
     "text": [
      "epoch 4 || Epoch_TRAIN_Loss:6.4805 ||Epoch_VAL_Loss:0.0000\n",
      "timer:  132.3912 sec.\n",
      "-------------\n",
      "Epoch 5/100\n",
      "-------------\n",
      "(train)\n"
     ]
    },
    {
     "name": "stderr",
     "output_type": "stream",
     "text": [
      "  0%|          | 0/179 [00:00<?, ?it/s]"
     ]
    },
    {
     "name": "stdout",
     "output_type": "stream",
     "text": [
      "179\n"
     ]
    },
    {
     "name": "stderr",
     "output_type": "stream",
     "text": [
      "반복 895 || Loss: 5.7199 || 10iter: 0.3736 sec.: 100%|██████████| 179/179 [02:10<00:00,  1.37it/s]\n"
     ]
    },
    {
     "name": "stdout",
     "output_type": "stream",
     "text": [
      "epoch 5 || Epoch_TRAIN_Loss:6.2397 ||Epoch_VAL_Loss:0.0000\n",
      "timer:  130.9884 sec.\n",
      "-------------\n",
      "Epoch 6/100\n",
      "-------------\n",
      "(train)\n"
     ]
    },
    {
     "name": "stderr",
     "output_type": "stream",
     "text": [
      "  0%|          | 0/179 [00:00<?, ?it/s]"
     ]
    },
    {
     "name": "stdout",
     "output_type": "stream",
     "text": [
      "179\n"
     ]
    },
    {
     "name": "stderr",
     "output_type": "stream",
     "text": [
      "반복 1074 || Loss: 6.0651 || 10iter: 0.4292 sec.: 100%|██████████| 179/179 [02:11<00:00,  1.37it/s]\n"
     ]
    },
    {
     "name": "stdout",
     "output_type": "stream",
     "text": [
      "epoch 6 || Epoch_TRAIN_Loss:5.9976 ||Epoch_VAL_Loss:0.0000\n",
      "timer:  131.0967 sec.\n",
      "-------------\n",
      "Epoch 7/100\n",
      "-------------\n",
      "(train)\n"
     ]
    },
    {
     "name": "stderr",
     "output_type": "stream",
     "text": [
      "  0%|          | 0/179 [00:00<?, ?it/s]"
     ]
    },
    {
     "name": "stdout",
     "output_type": "stream",
     "text": [
      "179\n"
     ]
    },
    {
     "name": "stderr",
     "output_type": "stream",
     "text": [
      "반복 1253 || Loss: 5.9981 || 10iter: 0.4253 sec.: 100%|██████████| 179/179 [02:10<00:00,  1.37it/s]\n"
     ]
    },
    {
     "name": "stdout",
     "output_type": "stream",
     "text": [
      "epoch 7 || Epoch_TRAIN_Loss:5.8713 ||Epoch_VAL_Loss:0.0000\n",
      "timer:  130.6438 sec.\n",
      "-------------\n",
      "Epoch 8/100\n",
      "-------------\n",
      "(train)\n"
     ]
    },
    {
     "name": "stderr",
     "output_type": "stream",
     "text": [
      "  0%|          | 0/179 [00:00<?, ?it/s]"
     ]
    },
    {
     "name": "stdout",
     "output_type": "stream",
     "text": [
      "179\n"
     ]
    },
    {
     "name": "stderr",
     "output_type": "stream",
     "text": [
      "반복 1432 || Loss: 5.5802 || 10iter: 0.3927 sec.: 100%|██████████| 179/179 [02:12<00:00,  1.35it/s]\n"
     ]
    },
    {
     "name": "stdout",
     "output_type": "stream",
     "text": [
      "epoch 8 || Epoch_TRAIN_Loss:5.7323 ||Epoch_VAL_Loss:0.0000\n",
      "timer:  132.1517 sec.\n",
      "-------------\n",
      "Epoch 9/100\n",
      "-------------\n",
      "(train)\n"
     ]
    },
    {
     "name": "stderr",
     "output_type": "stream",
     "text": [
      "  0%|          | 0/179 [00:00<?, ?it/s]"
     ]
    },
    {
     "name": "stdout",
     "output_type": "stream",
     "text": [
      "179\n"
     ]
    },
    {
     "name": "stderr",
     "output_type": "stream",
     "text": [
      "반복 1611 || Loss: 5.3894 || 10iter: 0.3843 sec.: 100%|██████████| 179/179 [02:11<00:00,  1.36it/s]\n"
     ]
    },
    {
     "name": "stdout",
     "output_type": "stream",
     "text": [
      "epoch 9 || Epoch_TRAIN_Loss:5.5753 ||Epoch_VAL_Loss:0.0000\n",
      "timer:  131.4654 sec.\n",
      "-------------\n",
      "Epoch 10/100\n",
      "-------------\n",
      "(train)\n"
     ]
    },
    {
     "name": "stderr",
     "output_type": "stream",
     "text": [
      "  0%|          | 0/179 [00:00<?, ?it/s]"
     ]
    },
    {
     "name": "stdout",
     "output_type": "stream",
     "text": [
      "179\n"
     ]
    },
    {
     "name": "stderr",
     "output_type": "stream",
     "text": [
      "반복 1790 || Loss: 5.6781 || 10iter: 0.3193 sec.: 100%|██████████| 179/179 [02:03<00:00,  1.45it/s]\n"
     ]
    },
    {
     "name": "stdout",
     "output_type": "stream",
     "text": [
      "-------------\n",
      "(val)\n"
     ]
    },
    {
     "name": "stderr",
     "output_type": "stream",
     "text": [
      "  0%|          | 0/182 [00:00<?, ?it/s]"
     ]
    },
    {
     "name": "stdout",
     "output_type": "stream",
     "text": [
      "182\n"
     ]
    },
    {
     "name": "stderr",
     "output_type": "stream",
     "text": [
      "100%|██████████| 182/182 [00:53<00:00,  3.39it/s]\n"
     ]
    },
    {
     "name": "stdout",
     "output_type": "stream",
     "text": [
      "epoch 10 || Epoch_TRAIN_Loss:5.4656 ||Epoch_VAL_Loss:1006.1949\n",
      "timer:  176.7490 sec.\n",
      "-------------\n",
      "Epoch 11/100\n",
      "-------------\n",
      "(train)\n"
     ]
    },
    {
     "name": "stderr",
     "output_type": "stream",
     "text": [
      "  0%|          | 0/179 [00:00<?, ?it/s]"
     ]
    },
    {
     "name": "stdout",
     "output_type": "stream",
     "text": [
      "179\n"
     ]
    },
    {
     "name": "stderr",
     "output_type": "stream",
     "text": [
      "반복 1969 || Loss: 5.4261 || 10iter: 0.3188 sec.: 100%|██████████| 179/179 [01:58<00:00,  1.51it/s]\n"
     ]
    },
    {
     "name": "stdout",
     "output_type": "stream",
     "text": [
      "epoch 11 || Epoch_TRAIN_Loss:5.3445 ||Epoch_VAL_Loss:0.0000\n",
      "timer:  118.8401 sec.\n",
      "-------------\n",
      "Epoch 12/100\n",
      "-------------\n",
      "(train)\n"
     ]
    },
    {
     "name": "stderr",
     "output_type": "stream",
     "text": [
      "  0%|          | 0/179 [00:00<?, ?it/s]"
     ]
    },
    {
     "name": "stdout",
     "output_type": "stream",
     "text": [
      "179\n"
     ]
    },
    {
     "name": "stderr",
     "output_type": "stream",
     "text": [
      "반복 2148 || Loss: 5.7130 || 10iter: 0.3118 sec.: 100%|██████████| 179/179 [01:57<00:00,  1.52it/s]\n"
     ]
    },
    {
     "name": "stdout",
     "output_type": "stream",
     "text": [
      "epoch 12 || Epoch_TRAIN_Loss:5.2506 ||Epoch_VAL_Loss:0.0000\n",
      "timer:  117.4810 sec.\n",
      "-------------\n",
      "Epoch 13/100\n",
      "-------------\n",
      "(train)\n"
     ]
    },
    {
     "name": "stderr",
     "output_type": "stream",
     "text": [
      "  0%|          | 0/179 [00:00<?, ?it/s]"
     ]
    },
    {
     "name": "stdout",
     "output_type": "stream",
     "text": [
      "179\n"
     ]
    },
    {
     "name": "stderr",
     "output_type": "stream",
     "text": [
      "반복 2327 || Loss: 5.2308 || 10iter: 0.3793 sec.: 100%|██████████| 179/179 [01:57<00:00,  1.52it/s]\n"
     ]
    },
    {
     "name": "stdout",
     "output_type": "stream",
     "text": [
      "epoch 13 || Epoch_TRAIN_Loss:5.1151 ||Epoch_VAL_Loss:0.0000\n",
      "timer:  117.4395 sec.\n",
      "-------------\n",
      "Epoch 14/100\n",
      "-------------\n",
      "(train)\n"
     ]
    },
    {
     "name": "stderr",
     "output_type": "stream",
     "text": [
      "  0%|          | 0/179 [00:00<?, ?it/s]"
     ]
    },
    {
     "name": "stdout",
     "output_type": "stream",
     "text": [
      "179\n"
     ]
    },
    {
     "name": "stderr",
     "output_type": "stream",
     "text": [
      "반복 2506 || Loss: 4.9690 || 10iter: 0.3991 sec.: 100%|██████████| 179/179 [01:57<00:00,  1.52it/s]\n"
     ]
    },
    {
     "name": "stdout",
     "output_type": "stream",
     "text": [
      "epoch 14 || Epoch_TRAIN_Loss:5.0489 ||Epoch_VAL_Loss:0.0000\n",
      "timer:  117.3811 sec.\n",
      "-------------\n",
      "Epoch 15/100\n",
      "-------------\n",
      "(train)\n"
     ]
    },
    {
     "name": "stderr",
     "output_type": "stream",
     "text": [
      "  0%|          | 0/179 [00:00<?, ?it/s]"
     ]
    },
    {
     "name": "stdout",
     "output_type": "stream",
     "text": [
      "179\n"
     ]
    },
    {
     "name": "stderr",
     "output_type": "stream",
     "text": [
      "반복 2685 || Loss: 5.0275 || 10iter: 0.3617 sec.: 100%|██████████| 179/179 [01:57<00:00,  1.52it/s]\n"
     ]
    },
    {
     "name": "stdout",
     "output_type": "stream",
     "text": [
      "epoch 15 || Epoch_TRAIN_Loss:4.9441 ||Epoch_VAL_Loss:0.0000\n",
      "timer:  117.9288 sec.\n",
      "-------------\n",
      "Epoch 16/100\n",
      "-------------\n",
      "(train)\n"
     ]
    },
    {
     "name": "stderr",
     "output_type": "stream",
     "text": [
      "  0%|          | 0/179 [00:00<?, ?it/s]"
     ]
    },
    {
     "name": "stdout",
     "output_type": "stream",
     "text": [
      "179\n"
     ]
    },
    {
     "name": "stderr",
     "output_type": "stream",
     "text": [
      "반복 2864 || Loss: 4.5986 || 10iter: 0.4166 sec.: 100%|██████████| 179/179 [01:58<00:00,  1.51it/s]\n"
     ]
    },
    {
     "name": "stdout",
     "output_type": "stream",
     "text": [
      "epoch 16 || Epoch_TRAIN_Loss:4.8596 ||Epoch_VAL_Loss:0.0000\n",
      "timer:  118.1964 sec.\n",
      "-------------\n",
      "Epoch 17/100\n",
      "-------------\n",
      "(train)\n"
     ]
    },
    {
     "name": "stderr",
     "output_type": "stream",
     "text": [
      "  0%|          | 0/179 [00:00<?, ?it/s]"
     ]
    },
    {
     "name": "stdout",
     "output_type": "stream",
     "text": [
      "179\n"
     ]
    },
    {
     "name": "stderr",
     "output_type": "stream",
     "text": [
      "반복 3043 || Loss: 4.6746 || 10iter: 0.3327 sec.: 100%|██████████| 179/179 [01:57<00:00,  1.52it/s]\n"
     ]
    },
    {
     "name": "stdout",
     "output_type": "stream",
     "text": [
      "epoch 17 || Epoch_TRAIN_Loss:4.8205 ||Epoch_VAL_Loss:0.0000\n",
      "timer:  117.8355 sec.\n",
      "-------------\n",
      "Epoch 18/100\n",
      "-------------\n",
      "(train)\n"
     ]
    },
    {
     "name": "stderr",
     "output_type": "stream",
     "text": [
      "  0%|          | 0/179 [00:00<?, ?it/s]"
     ]
    },
    {
     "name": "stdout",
     "output_type": "stream",
     "text": [
      "179\n"
     ]
    },
    {
     "name": "stderr",
     "output_type": "stream",
     "text": [
      "반복 3222 || Loss: 5.1025 || 10iter: 0.3329 sec.: 100%|██████████| 179/179 [01:57<00:00,  1.53it/s]\n"
     ]
    },
    {
     "name": "stdout",
     "output_type": "stream",
     "text": [
      "epoch 18 || Epoch_TRAIN_Loss:4.7873 ||Epoch_VAL_Loss:0.0000\n",
      "timer:  117.2155 sec.\n",
      "-------------\n",
      "Epoch 19/100\n",
      "-------------\n",
      "(train)\n"
     ]
    },
    {
     "name": "stderr",
     "output_type": "stream",
     "text": [
      "  0%|          | 0/179 [00:00<?, ?it/s]"
     ]
    },
    {
     "name": "stdout",
     "output_type": "stream",
     "text": [
      "179\n"
     ]
    },
    {
     "name": "stderr",
     "output_type": "stream",
     "text": [
      "반복 3401 || Loss: 4.5391 || 10iter: 0.3182 sec.: 100%|██████████| 179/179 [01:58<00:00,  1.51it/s]\n"
     ]
    },
    {
     "name": "stdout",
     "output_type": "stream",
     "text": [
      "epoch 19 || Epoch_TRAIN_Loss:4.7212 ||Epoch_VAL_Loss:0.0000\n",
      "timer:  118.1679 sec.\n",
      "-------------\n",
      "Epoch 20/100\n",
      "-------------\n",
      "(train)\n"
     ]
    },
    {
     "name": "stderr",
     "output_type": "stream",
     "text": [
      "  0%|          | 0/179 [00:00<?, ?it/s]"
     ]
    },
    {
     "name": "stdout",
     "output_type": "stream",
     "text": [
      "179\n"
     ]
    },
    {
     "name": "stderr",
     "output_type": "stream",
     "text": [
      "반복 3580 || Loss: 4.5088 || 10iter: 0.3239 sec.: 100%|██████████| 179/179 [01:57<00:00,  1.53it/s]\n"
     ]
    },
    {
     "name": "stdout",
     "output_type": "stream",
     "text": [
      "-------------\n",
      "(val)\n"
     ]
    },
    {
     "name": "stderr",
     "output_type": "stream",
     "text": [
      "  0%|          | 0/182 [00:00<?, ?it/s]"
     ]
    },
    {
     "name": "stdout",
     "output_type": "stream",
     "text": [
      "182\n"
     ]
    },
    {
     "name": "stderr",
     "output_type": "stream",
     "text": [
      "100%|██████████| 182/182 [00:46<00:00,  3.90it/s]\n"
     ]
    },
    {
     "name": "stdout",
     "output_type": "stream",
     "text": [
      "epoch 20 || Epoch_TRAIN_Loss:4.6537 ||Epoch_VAL_Loss:872.8900\n",
      "timer:  163.7282 sec.\n",
      "-------------\n",
      "Epoch 21/100\n",
      "-------------\n",
      "(train)\n"
     ]
    },
    {
     "name": "stderr",
     "output_type": "stream",
     "text": [
      "  0%|          | 0/179 [00:00<?, ?it/s]"
     ]
    },
    {
     "name": "stdout",
     "output_type": "stream",
     "text": [
      "179\n"
     ]
    },
    {
     "name": "stderr",
     "output_type": "stream",
     "text": [
      "반복 3759 || Loss: 5.1692 || 10iter: 0.3119 sec.: 100%|██████████| 179/179 [02:01<00:00,  1.48it/s]\n"
     ]
    },
    {
     "name": "stdout",
     "output_type": "stream",
     "text": [
      "epoch 21 || Epoch_TRAIN_Loss:4.5926 ||Epoch_VAL_Loss:0.0000\n",
      "timer:  121.3199 sec.\n",
      "-------------\n",
      "Epoch 22/100\n",
      "-------------\n",
      "(train)\n"
     ]
    },
    {
     "name": "stderr",
     "output_type": "stream",
     "text": [
      "  0%|          | 0/179 [00:00<?, ?it/s]"
     ]
    },
    {
     "name": "stdout",
     "output_type": "stream",
     "text": [
      "179\n"
     ]
    },
    {
     "name": "stderr",
     "output_type": "stream",
     "text": [
      "반복 3938 || Loss: 4.1885 || 10iter: 0.3353 sec.: 100%|██████████| 179/179 [01:58<00:00,  1.51it/s]\n"
     ]
    },
    {
     "name": "stdout",
     "output_type": "stream",
     "text": [
      "epoch 22 || Epoch_TRAIN_Loss:4.5739 ||Epoch_VAL_Loss:0.0000\n",
      "timer:  118.4216 sec.\n",
      "-------------\n",
      "Epoch 23/100\n",
      "-------------\n",
      "(train)\n"
     ]
    },
    {
     "name": "stderr",
     "output_type": "stream",
     "text": [
      "  0%|          | 0/179 [00:00<?, ?it/s]"
     ]
    },
    {
     "name": "stdout",
     "output_type": "stream",
     "text": [
      "179\n"
     ]
    },
    {
     "name": "stderr",
     "output_type": "stream",
     "text": [
      "반복 4117 || Loss: 4.1996 || 10iter: 0.3309 sec.: 100%|██████████| 179/179 [01:58<00:00,  1.52it/s]\n"
     ]
    },
    {
     "name": "stdout",
     "output_type": "stream",
     "text": [
      "epoch 23 || Epoch_TRAIN_Loss:4.4554 ||Epoch_VAL_Loss:0.0000\n",
      "timer:  118.1345 sec.\n",
      "-------------\n",
      "Epoch 24/100\n",
      "-------------\n",
      "(train)\n"
     ]
    },
    {
     "name": "stderr",
     "output_type": "stream",
     "text": [
      "  0%|          | 0/179 [00:00<?, ?it/s]"
     ]
    },
    {
     "name": "stdout",
     "output_type": "stream",
     "text": [
      "179\n"
     ]
    },
    {
     "name": "stderr",
     "output_type": "stream",
     "text": [
      "반복 4296 || Loss: 4.9912 || 10iter: 0.3938 sec.: 100%|██████████| 179/179 [01:56<00:00,  1.53it/s]\n"
     ]
    },
    {
     "name": "stdout",
     "output_type": "stream",
     "text": [
      "epoch 24 || Epoch_TRAIN_Loss:4.4176 ||Epoch_VAL_Loss:0.0000\n",
      "timer:  116.9365 sec.\n",
      "-------------\n",
      "Epoch 25/100\n",
      "-------------\n",
      "(train)\n"
     ]
    },
    {
     "name": "stderr",
     "output_type": "stream",
     "text": [
      "  0%|          | 0/179 [00:00<?, ?it/s]"
     ]
    },
    {
     "name": "stdout",
     "output_type": "stream",
     "text": [
      "179\n"
     ]
    },
    {
     "name": "stderr",
     "output_type": "stream",
     "text": [
      "반복 4475 || Loss: 4.9500 || 10iter: 0.3603 sec.: 100%|██████████| 179/179 [01:57<00:00,  1.52it/s]\n"
     ]
    },
    {
     "name": "stdout",
     "output_type": "stream",
     "text": [
      "epoch 25 || Epoch_TRAIN_Loss:4.4028 ||Epoch_VAL_Loss:0.0000\n",
      "timer:  117.4165 sec.\n",
      "-------------\n",
      "Epoch 26/100\n",
      "-------------\n",
      "(train)\n"
     ]
    },
    {
     "name": "stderr",
     "output_type": "stream",
     "text": [
      "  0%|          | 0/179 [00:00<?, ?it/s]"
     ]
    },
    {
     "name": "stdout",
     "output_type": "stream",
     "text": [
      "179\n"
     ]
    },
    {
     "name": "stderr",
     "output_type": "stream",
     "text": [
      "반복 4654 || Loss: 4.2717 || 10iter: 0.3969 sec.: 100%|██████████| 179/179 [01:58<00:00,  1.51it/s]\n"
     ]
    },
    {
     "name": "stdout",
     "output_type": "stream",
     "text": [
      "epoch 26 || Epoch_TRAIN_Loss:4.3344 ||Epoch_VAL_Loss:0.0000\n",
      "timer:  118.6138 sec.\n",
      "-------------\n",
      "Epoch 27/100\n",
      "-------------\n",
      "(train)\n"
     ]
    },
    {
     "name": "stderr",
     "output_type": "stream",
     "text": [
      "  0%|          | 0/179 [00:00<?, ?it/s]"
     ]
    },
    {
     "name": "stdout",
     "output_type": "stream",
     "text": [
      "179\n"
     ]
    },
    {
     "name": "stderr",
     "output_type": "stream",
     "text": [
      "반복 4833 || Loss: 4.2660 || 10iter: 0.4786 sec.: 100%|██████████| 179/179 [01:57<00:00,  1.52it/s]\n"
     ]
    },
    {
     "name": "stdout",
     "output_type": "stream",
     "text": [
      "epoch 27 || Epoch_TRAIN_Loss:4.2909 ||Epoch_VAL_Loss:0.0000\n",
      "timer:  117.7801 sec.\n",
      "-------------\n",
      "Epoch 28/100\n",
      "-------------\n",
      "(train)\n"
     ]
    },
    {
     "name": "stderr",
     "output_type": "stream",
     "text": [
      "  0%|          | 0/179 [00:00<?, ?it/s]"
     ]
    },
    {
     "name": "stdout",
     "output_type": "stream",
     "text": [
      "179\n"
     ]
    },
    {
     "name": "stderr",
     "output_type": "stream",
     "text": [
      "반복 5012 || Loss: 4.1312 || 10iter: 0.4036 sec.: 100%|██████████| 179/179 [01:58<00:00,  1.52it/s]\n"
     ]
    },
    {
     "name": "stdout",
     "output_type": "stream",
     "text": [
      "epoch 28 || Epoch_TRAIN_Loss:4.2876 ||Epoch_VAL_Loss:0.0000\n",
      "timer:  118.0837 sec.\n",
      "-------------\n",
      "Epoch 29/100\n",
      "-------------\n",
      "(train)\n"
     ]
    },
    {
     "name": "stderr",
     "output_type": "stream",
     "text": [
      "  0%|          | 0/179 [00:00<?, ?it/s]"
     ]
    },
    {
     "name": "stdout",
     "output_type": "stream",
     "text": [
      "179\n"
     ]
    },
    {
     "name": "stderr",
     "output_type": "stream",
     "text": [
      "반복 5191 || Loss: 4.3803 || 10iter: 0.4180 sec.: 100%|██████████| 179/179 [01:59<00:00,  1.50it/s]\n"
     ]
    },
    {
     "name": "stdout",
     "output_type": "stream",
     "text": [
      "epoch 29 || Epoch_TRAIN_Loss:4.2372 ||Epoch_VAL_Loss:0.0000\n",
      "timer:  119.2389 sec.\n",
      "-------------\n",
      "Epoch 30/100\n",
      "-------------\n",
      "(train)\n"
     ]
    },
    {
     "name": "stderr",
     "output_type": "stream",
     "text": [
      "  0%|          | 0/179 [00:00<?, ?it/s]"
     ]
    },
    {
     "name": "stdout",
     "output_type": "stream",
     "text": [
      "179\n"
     ]
    },
    {
     "name": "stderr",
     "output_type": "stream",
     "text": [
      "반복 5370 || Loss: 4.3864 || 10iter: 0.2835 sec.: 100%|██████████| 179/179 [02:01<00:00,  1.48it/s]\n"
     ]
    },
    {
     "name": "stdout",
     "output_type": "stream",
     "text": [
      "-------------\n",
      "(val)\n"
     ]
    },
    {
     "name": "stderr",
     "output_type": "stream",
     "text": [
      "  0%|          | 0/182 [00:00<?, ?it/s]"
     ]
    },
    {
     "name": "stdout",
     "output_type": "stream",
     "text": [
      "182\n"
     ]
    },
    {
     "name": "stderr",
     "output_type": "stream",
     "text": [
      "100%|██████████| 182/182 [00:49<00:00,  3.66it/s]\n"
     ]
    },
    {
     "name": "stdout",
     "output_type": "stream",
     "text": [
      "epoch 30 || Epoch_TRAIN_Loss:4.1829 ||Epoch_VAL_Loss:806.8441\n",
      "timer:  170.7417 sec.\n",
      "-------------\n",
      "Epoch 31/100\n",
      "-------------\n",
      "(train)\n"
     ]
    },
    {
     "name": "stderr",
     "output_type": "stream",
     "text": [
      "  0%|          | 0/179 [00:00<?, ?it/s]"
     ]
    },
    {
     "name": "stdout",
     "output_type": "stream",
     "text": [
      "179\n"
     ]
    },
    {
     "name": "stderr",
     "output_type": "stream",
     "text": [
      "반복 5549 || Loss: 4.5042 || 10iter: 0.3154 sec.: 100%|██████████| 179/179 [01:59<00:00,  1.50it/s]\n"
     ]
    },
    {
     "name": "stdout",
     "output_type": "stream",
     "text": [
      "epoch 31 || Epoch_TRAIN_Loss:4.1460 ||Epoch_VAL_Loss:0.0000\n",
      "timer:  119.0189 sec.\n",
      "-------------\n",
      "Epoch 32/100\n",
      "-------------\n",
      "(train)\n"
     ]
    },
    {
     "name": "stderr",
     "output_type": "stream",
     "text": [
      "  0%|          | 0/179 [00:00<?, ?it/s]"
     ]
    },
    {
     "name": "stdout",
     "output_type": "stream",
     "text": [
      "179\n"
     ]
    },
    {
     "name": "stderr",
     "output_type": "stream",
     "text": [
      "반복 5728 || Loss: 4.1139 || 10iter: 0.3523 sec.: 100%|██████████| 179/179 [02:02<00:00,  1.47it/s]\n"
     ]
    },
    {
     "name": "stdout",
     "output_type": "stream",
     "text": [
      "epoch 32 || Epoch_TRAIN_Loss:4.0899 ||Epoch_VAL_Loss:0.0000\n",
      "timer:  122.0234 sec.\n",
      "-------------\n",
      "Epoch 33/100\n",
      "-------------\n",
      "(train)\n"
     ]
    },
    {
     "name": "stderr",
     "output_type": "stream",
     "text": [
      "  0%|          | 0/179 [00:00<?, ?it/s]"
     ]
    },
    {
     "name": "stdout",
     "output_type": "stream",
     "text": [
      "179\n"
     ]
    },
    {
     "name": "stderr",
     "output_type": "stream",
     "text": [
      "반복 5907 || Loss: 3.6870 || 10iter: 0.3397 sec.: 100%|██████████| 179/179 [01:57<00:00,  1.52it/s]\n"
     ]
    },
    {
     "name": "stdout",
     "output_type": "stream",
     "text": [
      "epoch 33 || Epoch_TRAIN_Loss:4.0865 ||Epoch_VAL_Loss:0.0000\n",
      "timer:  117.7702 sec.\n",
      "-------------\n",
      "Epoch 34/100\n",
      "-------------\n",
      "(train)\n"
     ]
    },
    {
     "name": "stderr",
     "output_type": "stream",
     "text": [
      "  0%|          | 0/179 [00:00<?, ?it/s]"
     ]
    },
    {
     "name": "stdout",
     "output_type": "stream",
     "text": [
      "179\n"
     ]
    },
    {
     "name": "stderr",
     "output_type": "stream",
     "text": [
      "반복 6086 || Loss: 3.8965 || 10iter: 0.3558 sec.: 100%|██████████| 179/179 [02:12<00:00,  1.35it/s]\n"
     ]
    },
    {
     "name": "stdout",
     "output_type": "stream",
     "text": [
      "epoch 34 || Epoch_TRAIN_Loss:4.0791 ||Epoch_VAL_Loss:0.0000\n",
      "timer:  132.5608 sec.\n",
      "-------------\n",
      "Epoch 35/100\n",
      "-------------\n",
      "(train)\n"
     ]
    },
    {
     "name": "stderr",
     "output_type": "stream",
     "text": [
      "  0%|          | 0/179 [00:00<?, ?it/s]"
     ]
    },
    {
     "name": "stdout",
     "output_type": "stream",
     "text": [
      "179\n"
     ]
    },
    {
     "name": "stderr",
     "output_type": "stream",
     "text": [
      "반복 6265 || Loss: 4.1435 || 10iter: 0.5394 sec.: 100%|██████████| 179/179 [02:13<00:00,  1.34it/s]\n"
     ]
    },
    {
     "name": "stdout",
     "output_type": "stream",
     "text": [
      "epoch 35 || Epoch_TRAIN_Loss:4.0244 ||Epoch_VAL_Loss:0.0000\n",
      "timer:  133.2887 sec.\n",
      "-------------\n",
      "Epoch 36/100\n",
      "-------------\n",
      "(train)\n"
     ]
    },
    {
     "name": "stderr",
     "output_type": "stream",
     "text": [
      "  0%|          | 0/179 [00:00<?, ?it/s]"
     ]
    },
    {
     "name": "stdout",
     "output_type": "stream",
     "text": [
      "179\n"
     ]
    },
    {
     "name": "stderr",
     "output_type": "stream",
     "text": [
      "반복 6444 || Loss: 3.8430 || 10iter: 0.4009 sec.: 100%|██████████| 179/179 [02:09<00:00,  1.38it/s]\n"
     ]
    },
    {
     "name": "stdout",
     "output_type": "stream",
     "text": [
      "epoch 36 || Epoch_TRAIN_Loss:4.0131 ||Epoch_VAL_Loss:0.0000\n",
      "timer:  129.4275 sec.\n",
      "-------------\n",
      "Epoch 37/100\n",
      "-------------\n",
      "(train)\n"
     ]
    },
    {
     "name": "stderr",
     "output_type": "stream",
     "text": [
      "  0%|          | 0/179 [00:00<?, ?it/s]"
     ]
    },
    {
     "name": "stdout",
     "output_type": "stream",
     "text": [
      "179\n"
     ]
    },
    {
     "name": "stderr",
     "output_type": "stream",
     "text": [
      "반복 6623 || Loss: 4.0013 || 10iter: 0.3695 sec.: 100%|██████████| 179/179 [02:16<00:00,  1.31it/s]\n"
     ]
    },
    {
     "name": "stdout",
     "output_type": "stream",
     "text": [
      "epoch 37 || Epoch_TRAIN_Loss:3.9368 ||Epoch_VAL_Loss:0.0000\n",
      "timer:  136.8367 sec.\n",
      "-------------\n",
      "Epoch 38/100\n",
      "-------------\n",
      "(train)\n"
     ]
    },
    {
     "name": "stderr",
     "output_type": "stream",
     "text": [
      "  0%|          | 0/179 [00:00<?, ?it/s]"
     ]
    },
    {
     "name": "stdout",
     "output_type": "stream",
     "text": [
      "179\n"
     ]
    },
    {
     "name": "stderr",
     "output_type": "stream",
     "text": [
      "반복 6802 || Loss: 4.1117 || 10iter: 0.3881 sec.: 100%|██████████| 179/179 [02:14<00:00,  1.33it/s]\n"
     ]
    },
    {
     "name": "stdout",
     "output_type": "stream",
     "text": [
      "epoch 38 || Epoch_TRAIN_Loss:3.9312 ||Epoch_VAL_Loss:0.0000\n",
      "timer:  134.7456 sec.\n",
      "-------------\n",
      "Epoch 39/100\n",
      "-------------\n",
      "(train)\n"
     ]
    },
    {
     "name": "stderr",
     "output_type": "stream",
     "text": [
      "  0%|          | 0/179 [00:00<?, ?it/s]"
     ]
    },
    {
     "name": "stdout",
     "output_type": "stream",
     "text": [
      "179\n"
     ]
    },
    {
     "name": "stderr",
     "output_type": "stream",
     "text": [
      "반복 6981 || Loss: 4.1347 || 10iter: 0.4203 sec.: 100%|██████████| 179/179 [02:13<00:00,  1.34it/s]\n"
     ]
    },
    {
     "name": "stdout",
     "output_type": "stream",
     "text": [
      "epoch 39 || Epoch_TRAIN_Loss:3.8918 ||Epoch_VAL_Loss:0.0000\n",
      "timer:  133.8008 sec.\n",
      "-------------\n",
      "Epoch 40/100\n",
      "-------------\n",
      "(train)\n"
     ]
    },
    {
     "name": "stderr",
     "output_type": "stream",
     "text": [
      "  0%|          | 0/179 [00:00<?, ?it/s]"
     ]
    },
    {
     "name": "stdout",
     "output_type": "stream",
     "text": [
      "179\n"
     ]
    },
    {
     "name": "stderr",
     "output_type": "stream",
     "text": [
      "반복 7160 || Loss: 3.7266 || 10iter: 0.3461 sec.: 100%|██████████| 179/179 [02:13<00:00,  1.34it/s]\n"
     ]
    },
    {
     "name": "stdout",
     "output_type": "stream",
     "text": [
      "-------------\n",
      "(val)\n"
     ]
    },
    {
     "name": "stderr",
     "output_type": "stream",
     "text": [
      "  0%|          | 0/182 [00:00<?, ?it/s]"
     ]
    },
    {
     "name": "stdout",
     "output_type": "stream",
     "text": [
      "182\n"
     ]
    },
    {
     "name": "stderr",
     "output_type": "stream",
     "text": [
      "100%|██████████| 182/182 [00:50<00:00,  3.58it/s]\n"
     ]
    },
    {
     "name": "stdout",
     "output_type": "stream",
     "text": [
      "epoch 40 || Epoch_TRAIN_Loss:3.8580 ||Epoch_VAL_Loss:754.1948\n",
      "timer:  184.6177 sec.\n",
      "-------------\n",
      "Epoch 41/100\n",
      "-------------\n",
      "(train)\n"
     ]
    },
    {
     "name": "stderr",
     "output_type": "stream",
     "text": [
      "  0%|          | 0/179 [00:00<?, ?it/s]"
     ]
    },
    {
     "name": "stdout",
     "output_type": "stream",
     "text": [
      "179\n"
     ]
    },
    {
     "name": "stderr",
     "output_type": "stream",
     "text": [
      "반복 7339 || Loss: 3.8427 || 10iter: 0.3531 sec.: 100%|██████████| 179/179 [02:14<00:00,  1.33it/s]\n"
     ]
    },
    {
     "name": "stdout",
     "output_type": "stream",
     "text": [
      "epoch 41 || Epoch_TRAIN_Loss:3.8400 ||Epoch_VAL_Loss:0.0000\n",
      "timer:  134.1010 sec.\n",
      "-------------\n",
      "Epoch 42/100\n",
      "-------------\n",
      "(train)\n"
     ]
    },
    {
     "name": "stderr",
     "output_type": "stream",
     "text": [
      "  0%|          | 0/179 [00:00<?, ?it/s]"
     ]
    },
    {
     "name": "stdout",
     "output_type": "stream",
     "text": [
      "179\n"
     ]
    },
    {
     "name": "stderr",
     "output_type": "stream",
     "text": [
      "반복 7518 || Loss: 4.2979 || 10iter: 0.3583 sec.: 100%|██████████| 179/179 [02:14<00:00,  1.33it/s]\n"
     ]
    },
    {
     "name": "stdout",
     "output_type": "stream",
     "text": [
      "epoch 42 || Epoch_TRAIN_Loss:3.8117 ||Epoch_VAL_Loss:0.0000\n",
      "timer:  134.6312 sec.\n",
      "-------------\n",
      "Epoch 43/100\n",
      "-------------\n",
      "(train)\n"
     ]
    },
    {
     "name": "stderr",
     "output_type": "stream",
     "text": [
      "  0%|          | 0/179 [00:00<?, ?it/s]"
     ]
    },
    {
     "name": "stdout",
     "output_type": "stream",
     "text": [
      "179\n"
     ]
    },
    {
     "name": "stderr",
     "output_type": "stream",
     "text": [
      "반복 7697 || Loss: 3.5254 || 10iter: 0.4561 sec.: 100%|██████████| 179/179 [02:12<00:00,  1.35it/s]\n"
     ]
    },
    {
     "name": "stdout",
     "output_type": "stream",
     "text": [
      "epoch 43 || Epoch_TRAIN_Loss:3.8246 ||Epoch_VAL_Loss:0.0000\n",
      "timer:  132.8085 sec.\n",
      "-------------\n",
      "Epoch 44/100\n",
      "-------------\n",
      "(train)\n"
     ]
    },
    {
     "name": "stderr",
     "output_type": "stream",
     "text": [
      "  0%|          | 0/179 [00:00<?, ?it/s]"
     ]
    },
    {
     "name": "stdout",
     "output_type": "stream",
     "text": [
      "179\n"
     ]
    },
    {
     "name": "stderr",
     "output_type": "stream",
     "text": [
      "반복 7876 || Loss: 3.7096 || 10iter: 0.3957 sec.: 100%|██████████| 179/179 [02:08<00:00,  1.39it/s]\n"
     ]
    },
    {
     "name": "stdout",
     "output_type": "stream",
     "text": [
      "epoch 44 || Epoch_TRAIN_Loss:3.8019 ||Epoch_VAL_Loss:0.0000\n",
      "timer:  128.8584 sec.\n",
      "-------------\n",
      "Epoch 45/100\n",
      "-------------\n",
      "(train)\n"
     ]
    },
    {
     "name": "stderr",
     "output_type": "stream",
     "text": [
      "  0%|          | 0/179 [00:00<?, ?it/s]"
     ]
    },
    {
     "name": "stdout",
     "output_type": "stream",
     "text": [
      "179\n"
     ]
    },
    {
     "name": "stderr",
     "output_type": "stream",
     "text": [
      "반복 8055 || Loss: 3.4974 || 10iter: 0.3673 sec.: 100%|██████████| 179/179 [01:59<00:00,  1.49it/s]\n"
     ]
    },
    {
     "name": "stdout",
     "output_type": "stream",
     "text": [
      "epoch 45 || Epoch_TRAIN_Loss:3.7226 ||Epoch_VAL_Loss:0.0000\n",
      "timer:  119.9601 sec.\n",
      "-------------\n",
      "Epoch 46/100\n",
      "-------------\n",
      "(train)\n"
     ]
    },
    {
     "name": "stderr",
     "output_type": "stream",
     "text": [
      "  0%|          | 0/179 [00:00<?, ?it/s]"
     ]
    },
    {
     "name": "stdout",
     "output_type": "stream",
     "text": [
      "179\n"
     ]
    },
    {
     "name": "stderr",
     "output_type": "stream",
     "text": [
      "반복 8234 || Loss: 3.4700 || 10iter: 0.3388 sec.: 100%|██████████| 179/179 [02:00<00:00,  1.49it/s]\n"
     ]
    },
    {
     "name": "stdout",
     "output_type": "stream",
     "text": [
      "epoch 46 || Epoch_TRAIN_Loss:3.7095 ||Epoch_VAL_Loss:0.0000\n",
      "timer:  120.5122 sec.\n",
      "-------------\n",
      "Epoch 47/100\n",
      "-------------\n",
      "(train)\n"
     ]
    },
    {
     "name": "stderr",
     "output_type": "stream",
     "text": [
      "  0%|          | 0/179 [00:00<?, ?it/s]"
     ]
    },
    {
     "name": "stdout",
     "output_type": "stream",
     "text": [
      "179\n"
     ]
    },
    {
     "name": "stderr",
     "output_type": "stream",
     "text": [
      "반복 8413 || Loss: 3.5957 || 10iter: 0.3102 sec.: 100%|██████████| 179/179 [02:01<00:00,  1.48it/s]\n"
     ]
    },
    {
     "name": "stdout",
     "output_type": "stream",
     "text": [
      "epoch 47 || Epoch_TRAIN_Loss:3.6849 ||Epoch_VAL_Loss:0.0000\n",
      "timer:  121.2420 sec.\n",
      "-------------\n",
      "Epoch 48/100\n",
      "-------------\n",
      "(train)\n"
     ]
    },
    {
     "name": "stderr",
     "output_type": "stream",
     "text": [
      "  0%|          | 0/179 [00:00<?, ?it/s]"
     ]
    },
    {
     "name": "stdout",
     "output_type": "stream",
     "text": [
      "179\n"
     ]
    },
    {
     "name": "stderr",
     "output_type": "stream",
     "text": [
      "반복 8592 || Loss: 3.7690 || 10iter: 0.3455 sec.: 100%|██████████| 179/179 [01:59<00:00,  1.50it/s]\n"
     ]
    },
    {
     "name": "stdout",
     "output_type": "stream",
     "text": [
      "epoch 48 || Epoch_TRAIN_Loss:3.6887 ||Epoch_VAL_Loss:0.0000\n",
      "timer:  119.1990 sec.\n",
      "-------------\n",
      "Epoch 49/100\n",
      "-------------\n",
      "(train)\n"
     ]
    },
    {
     "name": "stderr",
     "output_type": "stream",
     "text": [
      "  0%|          | 0/179 [00:00<?, ?it/s]"
     ]
    },
    {
     "name": "stdout",
     "output_type": "stream",
     "text": [
      "179\n"
     ]
    },
    {
     "name": "stderr",
     "output_type": "stream",
     "text": [
      "반복 8771 || Loss: 3.9396 || 10iter: 0.3664 sec.: 100%|██████████| 179/179 [01:57<00:00,  1.52it/s]\n"
     ]
    },
    {
     "name": "stdout",
     "output_type": "stream",
     "text": [
      "epoch 49 || Epoch_TRAIN_Loss:3.6246 ||Epoch_VAL_Loss:0.0000\n",
      "timer:  117.8141 sec.\n",
      "-------------\n",
      "Epoch 50/100\n",
      "-------------\n",
      "(train)\n"
     ]
    },
    {
     "name": "stderr",
     "output_type": "stream",
     "text": [
      "  0%|          | 0/179 [00:00<?, ?it/s]"
     ]
    },
    {
     "name": "stdout",
     "output_type": "stream",
     "text": [
      "179\n"
     ]
    },
    {
     "name": "stderr",
     "output_type": "stream",
     "text": [
      "반복 8950 || Loss: 4.2458 || 10iter: 0.3774 sec.: 100%|██████████| 179/179 [01:59<00:00,  1.50it/s]\n"
     ]
    },
    {
     "name": "stdout",
     "output_type": "stream",
     "text": [
      "-------------\n",
      "(val)\n"
     ]
    },
    {
     "name": "stderr",
     "output_type": "stream",
     "text": [
      "  0%|          | 0/182 [00:00<?, ?it/s]"
     ]
    },
    {
     "name": "stdout",
     "output_type": "stream",
     "text": [
      "182\n"
     ]
    },
    {
     "name": "stderr",
     "output_type": "stream",
     "text": [
      "100%|██████████| 182/182 [00:48<00:00,  3.73it/s]\n"
     ]
    },
    {
     "name": "stdout",
     "output_type": "stream",
     "text": [
      "epoch 50 || Epoch_TRAIN_Loss:3.6359 ||Epoch_VAL_Loss:723.5472\n",
      "timer:  167.8020 sec.\n",
      "-------------\n",
      "Epoch 51/100\n",
      "-------------\n",
      "(train)\n"
     ]
    },
    {
     "name": "stderr",
     "output_type": "stream",
     "text": [
      "  0%|          | 0/179 [00:00<?, ?it/s]"
     ]
    },
    {
     "name": "stdout",
     "output_type": "stream",
     "text": [
      "179\n"
     ]
    },
    {
     "name": "stderr",
     "output_type": "stream",
     "text": [
      "반복 9129 || Loss: 3.7159 || 10iter: 0.3837 sec.: 100%|██████████| 179/179 [01:59<00:00,  1.50it/s]\n"
     ]
    },
    {
     "name": "stdout",
     "output_type": "stream",
     "text": [
      "epoch 51 || Epoch_TRAIN_Loss:3.6202 ||Epoch_VAL_Loss:0.0000\n",
      "timer:  119.6830 sec.\n",
      "-------------\n",
      "Epoch 52/100\n",
      "-------------\n",
      "(train)\n"
     ]
    },
    {
     "name": "stderr",
     "output_type": "stream",
     "text": [
      "  0%|          | 0/179 [00:00<?, ?it/s]"
     ]
    },
    {
     "name": "stdout",
     "output_type": "stream",
     "text": [
      "179\n"
     ]
    },
    {
     "name": "stderr",
     "output_type": "stream",
     "text": [
      "반복 9308 || Loss: 4.1435 || 10iter: 0.3364 sec.: 100%|██████████| 179/179 [02:00<00:00,  1.49it/s]\n"
     ]
    },
    {
     "name": "stdout",
     "output_type": "stream",
     "text": [
      "epoch 52 || Epoch_TRAIN_Loss:3.5766 ||Epoch_VAL_Loss:0.0000\n",
      "timer:  120.3375 sec.\n",
      "-------------\n",
      "Epoch 53/100\n",
      "-------------\n",
      "(train)\n"
     ]
    },
    {
     "name": "stderr",
     "output_type": "stream",
     "text": [
      "  0%|          | 0/179 [00:00<?, ?it/s]"
     ]
    },
    {
     "name": "stdout",
     "output_type": "stream",
     "text": [
      "179\n"
     ]
    },
    {
     "name": "stderr",
     "output_type": "stream",
     "text": [
      "반복 9487 || Loss: 3.7665 || 10iter: 0.4533 sec.: 100%|██████████| 179/179 [02:03<00:00,  1.44it/s]\n"
     ]
    },
    {
     "name": "stdout",
     "output_type": "stream",
     "text": [
      "epoch 53 || Epoch_TRAIN_Loss:3.5832 ||Epoch_VAL_Loss:0.0000\n",
      "timer:  123.9618 sec.\n",
      "-------------\n",
      "Epoch 54/100\n",
      "-------------\n",
      "(train)\n"
     ]
    },
    {
     "name": "stderr",
     "output_type": "stream",
     "text": [
      "  0%|          | 0/179 [00:00<?, ?it/s]"
     ]
    },
    {
     "name": "stdout",
     "output_type": "stream",
     "text": [
      "179\n"
     ]
    },
    {
     "name": "stderr",
     "output_type": "stream",
     "text": [
      "반복 9666 || Loss: 2.9132 || 10iter: 0.4597 sec.: 100%|██████████| 179/179 [02:13<00:00,  1.34it/s]\n"
     ]
    },
    {
     "name": "stdout",
     "output_type": "stream",
     "text": [
      "epoch 54 || Epoch_TRAIN_Loss:3.5438 ||Epoch_VAL_Loss:0.0000\n",
      "timer:  133.7082 sec.\n",
      "-------------\n",
      "Epoch 55/100\n",
      "-------------\n",
      "(train)\n"
     ]
    },
    {
     "name": "stderr",
     "output_type": "stream",
     "text": [
      "  0%|          | 0/179 [00:00<?, ?it/s]"
     ]
    },
    {
     "name": "stdout",
     "output_type": "stream",
     "text": [
      "179\n"
     ]
    },
    {
     "name": "stderr",
     "output_type": "stream",
     "text": [
      "반복 9845 || Loss: 3.2853 || 10iter: 0.4812 sec.: 100%|██████████| 179/179 [02:13<00:00,  1.34it/s]\n"
     ]
    },
    {
     "name": "stdout",
     "output_type": "stream",
     "text": [
      "epoch 55 || Epoch_TRAIN_Loss:3.5243 ||Epoch_VAL_Loss:0.0000\n",
      "timer:  133.4344 sec.\n",
      "-------------\n",
      "Epoch 56/100\n",
      "-------------\n",
      "(train)\n"
     ]
    },
    {
     "name": "stderr",
     "output_type": "stream",
     "text": [
      "  0%|          | 0/179 [00:00<?, ?it/s]"
     ]
    },
    {
     "name": "stdout",
     "output_type": "stream",
     "text": [
      "179\n"
     ]
    },
    {
     "name": "stderr",
     "output_type": "stream",
     "text": [
      "반복 10024 || Loss: 3.2552 || 10iter: 0.3235 sec.: 100%|██████████| 179/179 [02:03<00:00,  1.45it/s]\n"
     ]
    },
    {
     "name": "stdout",
     "output_type": "stream",
     "text": [
      "epoch 56 || Epoch_TRAIN_Loss:3.5000 ||Epoch_VAL_Loss:0.0000\n",
      "timer:  123.3148 sec.\n",
      "-------------\n",
      "Epoch 57/100\n",
      "-------------\n",
      "(train)\n"
     ]
    },
    {
     "name": "stderr",
     "output_type": "stream",
     "text": [
      "  0%|          | 0/179 [00:00<?, ?it/s]"
     ]
    },
    {
     "name": "stdout",
     "output_type": "stream",
     "text": [
      "179\n"
     ]
    },
    {
     "name": "stderr",
     "output_type": "stream",
     "text": [
      "반복 10203 || Loss: 3.2413 || 10iter: 0.3800 sec.: 100%|██████████| 179/179 [01:58<00:00,  1.51it/s]\n"
     ]
    },
    {
     "name": "stdout",
     "output_type": "stream",
     "text": [
      "epoch 57 || Epoch_TRAIN_Loss:3.5225 ||Epoch_VAL_Loss:0.0000\n",
      "timer:  118.8984 sec.\n",
      "-------------\n",
      "Epoch 58/100\n",
      "-------------\n",
      "(train)\n"
     ]
    },
    {
     "name": "stderr",
     "output_type": "stream",
     "text": [
      "  0%|          | 0/179 [00:00<?, ?it/s]"
     ]
    },
    {
     "name": "stdout",
     "output_type": "stream",
     "text": [
      "179\n"
     ]
    },
    {
     "name": "stderr",
     "output_type": "stream",
     "text": [
      "반복 10382 || Loss: 4.1293 || 10iter: 0.2882 sec.: 100%|██████████| 179/179 [02:00<00:00,  1.49it/s]\n"
     ]
    },
    {
     "name": "stdout",
     "output_type": "stream",
     "text": [
      "epoch 58 || Epoch_TRAIN_Loss:3.4817 ||Epoch_VAL_Loss:0.0000\n",
      "timer:  120.1853 sec.\n",
      "-------------\n",
      "Epoch 59/100\n",
      "-------------\n",
      "(train)\n"
     ]
    },
    {
     "name": "stderr",
     "output_type": "stream",
     "text": [
      "  0%|          | 0/179 [00:00<?, ?it/s]"
     ]
    },
    {
     "name": "stdout",
     "output_type": "stream",
     "text": [
      "179\n"
     ]
    },
    {
     "name": "stderr",
     "output_type": "stream",
     "text": [
      "반복 10561 || Loss: 3.6465 || 10iter: 0.3988 sec.: 100%|██████████| 179/179 [01:59<00:00,  1.50it/s]\n"
     ]
    },
    {
     "name": "stdout",
     "output_type": "stream",
     "text": [
      "epoch 59 || Epoch_TRAIN_Loss:3.4213 ||Epoch_VAL_Loss:0.0000\n",
      "timer:  119.2027 sec.\n",
      "-------------\n",
      "Epoch 60/100\n",
      "-------------\n",
      "(train)\n"
     ]
    },
    {
     "name": "stderr",
     "output_type": "stream",
     "text": [
      "  0%|          | 0/179 [00:00<?, ?it/s]"
     ]
    },
    {
     "name": "stdout",
     "output_type": "stream",
     "text": [
      "179\n"
     ]
    },
    {
     "name": "stderr",
     "output_type": "stream",
     "text": [
      "반복 10740 || Loss: 3.0412 || 10iter: 0.3397 sec.: 100%|██████████| 179/179 [02:00<00:00,  1.48it/s]\n"
     ]
    },
    {
     "name": "stdout",
     "output_type": "stream",
     "text": [
      "-------------\n",
      "(val)\n"
     ]
    },
    {
     "name": "stderr",
     "output_type": "stream",
     "text": [
      "  0%|          | 0/182 [00:00<?, ?it/s]"
     ]
    },
    {
     "name": "stdout",
     "output_type": "stream",
     "text": [
      "182\n"
     ]
    },
    {
     "name": "stderr",
     "output_type": "stream",
     "text": [
      "100%|██████████| 182/182 [00:49<00:00,  3.65it/s]\n"
     ]
    },
    {
     "name": "stdout",
     "output_type": "stream",
     "text": [
      "epoch 60 || Epoch_TRAIN_Loss:3.4812 ||Epoch_VAL_Loss:719.2119\n",
      "timer:  170.4412 sec.\n",
      "-------------\n",
      "Epoch 61/100\n",
      "-------------\n",
      "(train)\n"
     ]
    },
    {
     "name": "stderr",
     "output_type": "stream",
     "text": [
      "  0%|          | 0/179 [00:00<?, ?it/s]"
     ]
    },
    {
     "name": "stdout",
     "output_type": "stream",
     "text": [
      "179\n"
     ]
    },
    {
     "name": "stderr",
     "output_type": "stream",
     "text": [
      "반복 10919 || Loss: 3.3125 || 10iter: 0.3410 sec.: 100%|██████████| 179/179 [01:58<00:00,  1.51it/s]\n"
     ]
    },
    {
     "name": "stdout",
     "output_type": "stream",
     "text": [
      "epoch 61 || Epoch_TRAIN_Loss:3.4078 ||Epoch_VAL_Loss:0.0000\n",
      "timer:  118.7699 sec.\n",
      "-------------\n",
      "Epoch 62/100\n",
      "-------------\n",
      "(train)\n"
     ]
    },
    {
     "name": "stderr",
     "output_type": "stream",
     "text": [
      "  0%|          | 0/179 [00:00<?, ?it/s]"
     ]
    },
    {
     "name": "stdout",
     "output_type": "stream",
     "text": [
      "179\n"
     ]
    },
    {
     "name": "stderr",
     "output_type": "stream",
     "text": [
      "반복 11098 || Loss: 3.1655 || 10iter: 0.2436 sec.: 100%|██████████| 179/179 [02:00<00:00,  1.49it/s]\n"
     ]
    },
    {
     "name": "stdout",
     "output_type": "stream",
     "text": [
      "epoch 62 || Epoch_TRAIN_Loss:3.4651 ||Epoch_VAL_Loss:0.0000\n",
      "timer:  120.2858 sec.\n",
      "-------------\n",
      "Epoch 63/100\n",
      "-------------\n",
      "(train)\n"
     ]
    },
    {
     "name": "stderr",
     "output_type": "stream",
     "text": [
      "  0%|          | 0/179 [00:00<?, ?it/s]"
     ]
    },
    {
     "name": "stdout",
     "output_type": "stream",
     "text": [
      "179\n"
     ]
    },
    {
     "name": "stderr",
     "output_type": "stream",
     "text": [
      "반복 11277 || Loss: 3.9175 || 10iter: 0.3783 sec.: 100%|██████████| 179/179 [02:00<00:00,  1.49it/s]\n"
     ]
    },
    {
     "name": "stdout",
     "output_type": "stream",
     "text": [
      "epoch 63 || Epoch_TRAIN_Loss:3.3873 ||Epoch_VAL_Loss:0.0000\n",
      "timer:  120.4349 sec.\n",
      "-------------\n",
      "Epoch 64/100\n",
      "-------------\n",
      "(train)\n"
     ]
    },
    {
     "name": "stderr",
     "output_type": "stream",
     "text": [
      "  0%|          | 0/179 [00:00<?, ?it/s]"
     ]
    },
    {
     "name": "stdout",
     "output_type": "stream",
     "text": [
      "179\n"
     ]
    },
    {
     "name": "stderr",
     "output_type": "stream",
     "text": [
      "반복 11456 || Loss: 3.2842 || 10iter: 0.3244 sec.: 100%|██████████| 179/179 [01:59<00:00,  1.50it/s]\n"
     ]
    },
    {
     "name": "stdout",
     "output_type": "stream",
     "text": [
      "epoch 64 || Epoch_TRAIN_Loss:3.3899 ||Epoch_VAL_Loss:0.0000\n",
      "timer:  119.6524 sec.\n",
      "-------------\n",
      "Epoch 65/100\n",
      "-------------\n",
      "(train)\n"
     ]
    },
    {
     "name": "stderr",
     "output_type": "stream",
     "text": [
      "  0%|          | 0/179 [00:00<?, ?it/s]"
     ]
    },
    {
     "name": "stdout",
     "output_type": "stream",
     "text": [
      "179\n"
     ]
    },
    {
     "name": "stderr",
     "output_type": "stream",
     "text": [
      "반복 11635 || Loss: 3.3329 || 10iter: 0.3579 sec.: 100%|██████████| 179/179 [01:59<00:00,  1.50it/s]\n"
     ]
    },
    {
     "name": "stdout",
     "output_type": "stream",
     "text": [
      "epoch 65 || Epoch_TRAIN_Loss:3.3670 ||Epoch_VAL_Loss:0.0000\n",
      "timer:  119.3716 sec.\n",
      "-------------\n",
      "Epoch 66/100\n",
      "-------------\n",
      "(train)\n"
     ]
    },
    {
     "name": "stderr",
     "output_type": "stream",
     "text": [
      "  0%|          | 0/179 [00:00<?, ?it/s]"
     ]
    },
    {
     "name": "stdout",
     "output_type": "stream",
     "text": [
      "179\n"
     ]
    },
    {
     "name": "stderr",
     "output_type": "stream",
     "text": [
      "반복 11814 || Loss: 4.3765 || 10iter: 0.3063 sec.: 100%|██████████| 179/179 [01:59<00:00,  1.50it/s]\n"
     ]
    },
    {
     "name": "stdout",
     "output_type": "stream",
     "text": [
      "epoch 66 || Epoch_TRAIN_Loss:3.3774 ||Epoch_VAL_Loss:0.0000\n",
      "timer:  119.4109 sec.\n",
      "-------------\n",
      "Epoch 67/100\n",
      "-------------\n",
      "(train)\n"
     ]
    },
    {
     "name": "stderr",
     "output_type": "stream",
     "text": [
      "  0%|          | 0/179 [00:00<?, ?it/s]"
     ]
    },
    {
     "name": "stdout",
     "output_type": "stream",
     "text": [
      "179\n"
     ]
    },
    {
     "name": "stderr",
     "output_type": "stream",
     "text": [
      "반복 11993 || Loss: 3.5582 || 10iter: 0.4150 sec.: 100%|██████████| 179/179 [01:58<00:00,  1.51it/s]\n"
     ]
    },
    {
     "name": "stdout",
     "output_type": "stream",
     "text": [
      "epoch 67 || Epoch_TRAIN_Loss:3.3400 ||Epoch_VAL_Loss:0.0000\n",
      "timer:  118.6940 sec.\n",
      "-------------\n",
      "Epoch 68/100\n",
      "-------------\n",
      "(train)\n"
     ]
    },
    {
     "name": "stderr",
     "output_type": "stream",
     "text": [
      "  0%|          | 0/179 [00:00<?, ?it/s]"
     ]
    },
    {
     "name": "stdout",
     "output_type": "stream",
     "text": [
      "179\n"
     ]
    },
    {
     "name": "stderr",
     "output_type": "stream",
     "text": [
      "반복 12172 || Loss: 3.3647 || 10iter: 0.3532 sec.: 100%|██████████| 179/179 [02:01<00:00,  1.47it/s]\n"
     ]
    },
    {
     "name": "stdout",
     "output_type": "stream",
     "text": [
      "epoch 68 || Epoch_TRAIN_Loss:3.3063 ||Epoch_VAL_Loss:0.0000\n",
      "timer:  121.6236 sec.\n",
      "-------------\n",
      "Epoch 69/100\n",
      "-------------\n",
      "(train)\n"
     ]
    },
    {
     "name": "stderr",
     "output_type": "stream",
     "text": [
      "  0%|          | 0/179 [00:00<?, ?it/s]"
     ]
    },
    {
     "name": "stdout",
     "output_type": "stream",
     "text": [
      "179\n"
     ]
    },
    {
     "name": "stderr",
     "output_type": "stream",
     "text": [
      "반복 12351 || Loss: 2.8568 || 10iter: 0.3152 sec.: 100%|██████████| 179/179 [01:59<00:00,  1.50it/s]\n"
     ]
    },
    {
     "name": "stdout",
     "output_type": "stream",
     "text": [
      "epoch 69 || Epoch_TRAIN_Loss:3.2871 ||Epoch_VAL_Loss:0.0000\n",
      "timer:  119.3527 sec.\n",
      "-------------\n",
      "Epoch 70/100\n",
      "-------------\n",
      "(train)\n"
     ]
    },
    {
     "name": "stderr",
     "output_type": "stream",
     "text": [
      "  0%|          | 0/179 [00:00<?, ?it/s]"
     ]
    },
    {
     "name": "stdout",
     "output_type": "stream",
     "text": [
      "179\n"
     ]
    },
    {
     "name": "stderr",
     "output_type": "stream",
     "text": [
      "반복 12530 || Loss: 2.9411 || 10iter: 0.2938 sec.: 100%|██████████| 179/179 [01:59<00:00,  1.50it/s]\n"
     ]
    },
    {
     "name": "stdout",
     "output_type": "stream",
     "text": [
      "-------------\n",
      "(val)\n"
     ]
    },
    {
     "name": "stderr",
     "output_type": "stream",
     "text": [
      "  0%|          | 0/182 [00:00<?, ?it/s]"
     ]
    },
    {
     "name": "stdout",
     "output_type": "stream",
     "text": [
      "182\n"
     ]
    },
    {
     "name": "stderr",
     "output_type": "stream",
     "text": [
      "100%|██████████| 182/182 [00:48<00:00,  3.73it/s]\n"
     ]
    },
    {
     "name": "stdout",
     "output_type": "stream",
     "text": [
      "epoch 70 || Epoch_TRAIN_Loss:3.2482 ||Epoch_VAL_Loss:701.7660\n",
      "timer:  167.9716 sec.\n",
      "-------------\n",
      "Epoch 71/100\n",
      "-------------\n",
      "(train)\n"
     ]
    },
    {
     "name": "stderr",
     "output_type": "stream",
     "text": [
      "  0%|          | 0/179 [00:00<?, ?it/s]"
     ]
    },
    {
     "name": "stdout",
     "output_type": "stream",
     "text": [
      "179\n"
     ]
    },
    {
     "name": "stderr",
     "output_type": "stream",
     "text": [
      "반복 12709 || Loss: 3.8783 || 10iter: 0.3689 sec.: 100%|██████████| 179/179 [01:58<00:00,  1.51it/s]\n"
     ]
    },
    {
     "name": "stdout",
     "output_type": "stream",
     "text": [
      "epoch 71 || Epoch_TRAIN_Loss:3.2399 ||Epoch_VAL_Loss:0.0000\n",
      "timer:  118.2412 sec.\n",
      "-------------\n",
      "Epoch 72/100\n",
      "-------------\n",
      "(train)\n"
     ]
    },
    {
     "name": "stderr",
     "output_type": "stream",
     "text": [
      "  0%|          | 0/179 [00:00<?, ?it/s]"
     ]
    },
    {
     "name": "stdout",
     "output_type": "stream",
     "text": [
      "179\n"
     ]
    },
    {
     "name": "stderr",
     "output_type": "stream",
     "text": [
      "반복 12888 || Loss: 3.8421 || 10iter: 0.3822 sec.: 100%|██████████| 179/179 [01:59<00:00,  1.50it/s]\n"
     ]
    },
    {
     "name": "stdout",
     "output_type": "stream",
     "text": [
      "epoch 72 || Epoch_TRAIN_Loss:3.2798 ||Epoch_VAL_Loss:0.0000\n",
      "timer:  119.2923 sec.\n",
      "-------------\n",
      "Epoch 73/100\n",
      "-------------\n",
      "(train)\n"
     ]
    },
    {
     "name": "stderr",
     "output_type": "stream",
     "text": [
      "  0%|          | 0/179 [00:00<?, ?it/s]"
     ]
    },
    {
     "name": "stdout",
     "output_type": "stream",
     "text": [
      "179\n"
     ]
    },
    {
     "name": "stderr",
     "output_type": "stream",
     "text": [
      "반복 13067 || Loss: 3.5739 || 10iter: 0.2961 sec.: 100%|██████████| 179/179 [01:58<00:00,  1.51it/s]\n"
     ]
    },
    {
     "name": "stdout",
     "output_type": "stream",
     "text": [
      "epoch 73 || Epoch_TRAIN_Loss:3.2289 ||Epoch_VAL_Loss:0.0000\n",
      "timer:  118.8069 sec.\n",
      "-------------\n",
      "Epoch 74/100\n",
      "-------------\n",
      "(train)\n"
     ]
    },
    {
     "name": "stderr",
     "output_type": "stream",
     "text": [
      "  0%|          | 0/179 [00:00<?, ?it/s]"
     ]
    },
    {
     "name": "stdout",
     "output_type": "stream",
     "text": [
      "179\n"
     ]
    },
    {
     "name": "stderr",
     "output_type": "stream",
     "text": [
      "반복 13246 || Loss: 3.4635 || 10iter: 0.3806 sec.: 100%|██████████| 179/179 [02:01<00:00,  1.48it/s]\n"
     ]
    },
    {
     "name": "stdout",
     "output_type": "stream",
     "text": [
      "epoch 74 || Epoch_TRAIN_Loss:3.2432 ||Epoch_VAL_Loss:0.0000\n",
      "timer:  121.0810 sec.\n",
      "-------------\n",
      "Epoch 75/100\n",
      "-------------\n",
      "(train)\n"
     ]
    },
    {
     "name": "stderr",
     "output_type": "stream",
     "text": [
      "  0%|          | 0/179 [00:00<?, ?it/s]"
     ]
    },
    {
     "name": "stdout",
     "output_type": "stream",
     "text": [
      "179\n"
     ]
    },
    {
     "name": "stderr",
     "output_type": "stream",
     "text": [
      "반복 13425 || Loss: 2.8957 || 10iter: 0.3337 sec.: 100%|██████████| 179/179 [01:59<00:00,  1.50it/s]\n"
     ]
    },
    {
     "name": "stdout",
     "output_type": "stream",
     "text": [
      "epoch 75 || Epoch_TRAIN_Loss:3.2070 ||Epoch_VAL_Loss:0.0000\n",
      "timer:  119.5108 sec.\n",
      "-------------\n",
      "Epoch 76/100\n",
      "-------------\n",
      "(train)\n"
     ]
    },
    {
     "name": "stderr",
     "output_type": "stream",
     "text": [
      "  0%|          | 0/179 [00:00<?, ?it/s]"
     ]
    },
    {
     "name": "stdout",
     "output_type": "stream",
     "text": [
      "179\n"
     ]
    },
    {
     "name": "stderr",
     "output_type": "stream",
     "text": [
      "반복 13604 || Loss: 3.5733 || 10iter: 0.3535 sec.: 100%|██████████| 179/179 [01:59<00:00,  1.50it/s]\n"
     ]
    },
    {
     "name": "stdout",
     "output_type": "stream",
     "text": [
      "epoch 76 || Epoch_TRAIN_Loss:3.2248 ||Epoch_VAL_Loss:0.0000\n",
      "timer:  119.4790 sec.\n",
      "-------------\n",
      "Epoch 77/100\n",
      "-------------\n",
      "(train)\n"
     ]
    },
    {
     "name": "stderr",
     "output_type": "stream",
     "text": [
      "  0%|          | 0/179 [00:00<?, ?it/s]"
     ]
    },
    {
     "name": "stdout",
     "output_type": "stream",
     "text": [
      "179\n"
     ]
    },
    {
     "name": "stderr",
     "output_type": "stream",
     "text": [
      "반복 13783 || Loss: 3.5833 || 10iter: 0.2778 sec.: 100%|██████████| 179/179 [02:00<00:00,  1.48it/s]\n"
     ]
    },
    {
     "name": "stdout",
     "output_type": "stream",
     "text": [
      "epoch 77 || Epoch_TRAIN_Loss:3.2032 ||Epoch_VAL_Loss:0.0000\n",
      "timer:  120.5487 sec.\n",
      "-------------\n",
      "Epoch 78/100\n",
      "-------------\n",
      "(train)\n"
     ]
    },
    {
     "name": "stderr",
     "output_type": "stream",
     "text": [
      "  0%|          | 0/179 [00:00<?, ?it/s]"
     ]
    },
    {
     "name": "stdout",
     "output_type": "stream",
     "text": [
      "179\n"
     ]
    },
    {
     "name": "stderr",
     "output_type": "stream",
     "text": [
      "반복 13962 || Loss: 3.4653 || 10iter: 0.4372 sec.: 100%|██████████| 179/179 [01:59<00:00,  1.50it/s]\n"
     ]
    },
    {
     "name": "stdout",
     "output_type": "stream",
     "text": [
      "epoch 78 || Epoch_TRAIN_Loss:3.1959 ||Epoch_VAL_Loss:0.0000\n",
      "timer:  119.1718 sec.\n",
      "-------------\n",
      "Epoch 79/100\n",
      "-------------\n",
      "(train)\n"
     ]
    },
    {
     "name": "stderr",
     "output_type": "stream",
     "text": [
      "  0%|          | 0/179 [00:00<?, ?it/s]"
     ]
    },
    {
     "name": "stdout",
     "output_type": "stream",
     "text": [
      "179\n"
     ]
    },
    {
     "name": "stderr",
     "output_type": "stream",
     "text": [
      "반복 14141 || Loss: 3.5393 || 10iter: 0.3318 sec.: 100%|██████████| 179/179 [01:59<00:00,  1.49it/s]\n"
     ]
    },
    {
     "name": "stdout",
     "output_type": "stream",
     "text": [
      "epoch 79 || Epoch_TRAIN_Loss:3.1876 ||Epoch_VAL_Loss:0.0000\n",
      "timer:  119.8480 sec.\n",
      "-------------\n",
      "Epoch 80/100\n",
      "-------------\n",
      "(train)\n"
     ]
    },
    {
     "name": "stderr",
     "output_type": "stream",
     "text": [
      "  0%|          | 0/179 [00:00<?, ?it/s]"
     ]
    },
    {
     "name": "stdout",
     "output_type": "stream",
     "text": [
      "179\n"
     ]
    },
    {
     "name": "stderr",
     "output_type": "stream",
     "text": [
      "반복 14320 || Loss: 2.7410 || 10iter: 0.3059 sec.: 100%|██████████| 179/179 [01:58<00:00,  1.51it/s]\n"
     ]
    },
    {
     "name": "stdout",
     "output_type": "stream",
     "text": [
      "-------------\n",
      "(val)\n"
     ]
    },
    {
     "name": "stderr",
     "output_type": "stream",
     "text": [
      "  0%|          | 0/182 [00:00<?, ?it/s]"
     ]
    },
    {
     "name": "stdout",
     "output_type": "stream",
     "text": [
      "182\n"
     ]
    },
    {
     "name": "stderr",
     "output_type": "stream",
     "text": [
      "100%|██████████| 182/182 [00:49<00:00,  3.66it/s]\n"
     ]
    },
    {
     "name": "stdout",
     "output_type": "stream",
     "text": [
      "epoch 80 || Epoch_TRAIN_Loss:3.1704 ||Epoch_VAL_Loss:684.5678\n",
      "timer:  168.3513 sec.\n",
      "-------------\n",
      "Epoch 81/100\n",
      "-------------\n",
      "(train)\n"
     ]
    },
    {
     "name": "stderr",
     "output_type": "stream",
     "text": [
      "  0%|          | 0/179 [00:00<?, ?it/s]"
     ]
    },
    {
     "name": "stdout",
     "output_type": "stream",
     "text": [
      "179\n"
     ]
    },
    {
     "name": "stderr",
     "output_type": "stream",
     "text": [
      "반복 14499 || Loss: 3.5156 || 10iter: 0.4075 sec.: 100%|██████████| 179/179 [02:00<00:00,  1.49it/s]\n"
     ]
    },
    {
     "name": "stdout",
     "output_type": "stream",
     "text": [
      "epoch 81 || Epoch_TRAIN_Loss:3.1687 ||Epoch_VAL_Loss:0.0000\n",
      "timer:  120.4734 sec.\n",
      "-------------\n",
      "Epoch 82/100\n",
      "-------------\n",
      "(train)\n"
     ]
    },
    {
     "name": "stderr",
     "output_type": "stream",
     "text": [
      "  0%|          | 0/179 [00:00<?, ?it/s]"
     ]
    },
    {
     "name": "stdout",
     "output_type": "stream",
     "text": [
      "179\n"
     ]
    },
    {
     "name": "stderr",
     "output_type": "stream",
     "text": [
      "반복 14678 || Loss: 2.9677 || 10iter: 0.3750 sec.: 100%|██████████| 179/179 [01:59<00:00,  1.49it/s]\n"
     ]
    },
    {
     "name": "stdout",
     "output_type": "stream",
     "text": [
      "epoch 82 || Epoch_TRAIN_Loss:3.1414 ||Epoch_VAL_Loss:0.0000\n",
      "timer:  119.9792 sec.\n",
      "-------------\n",
      "Epoch 83/100\n",
      "-------------\n",
      "(train)\n"
     ]
    },
    {
     "name": "stderr",
     "output_type": "stream",
     "text": [
      "  0%|          | 0/179 [00:00<?, ?it/s]"
     ]
    },
    {
     "name": "stdout",
     "output_type": "stream",
     "text": [
      "179\n"
     ]
    },
    {
     "name": "stderr",
     "output_type": "stream",
     "text": [
      "반복 14857 || Loss: 3.3158 || 10iter: 0.3529 sec.: 100%|██████████| 179/179 [02:00<00:00,  1.48it/s]\n"
     ]
    },
    {
     "name": "stdout",
     "output_type": "stream",
     "text": [
      "epoch 83 || Epoch_TRAIN_Loss:3.1368 ||Epoch_VAL_Loss:0.0000\n",
      "timer:  120.7894 sec.\n",
      "-------------\n",
      "Epoch 84/100\n",
      "-------------\n",
      "(train)\n"
     ]
    },
    {
     "name": "stderr",
     "output_type": "stream",
     "text": [
      "  0%|          | 0/179 [00:00<?, ?it/s]"
     ]
    },
    {
     "name": "stdout",
     "output_type": "stream",
     "text": [
      "179\n"
     ]
    },
    {
     "name": "stderr",
     "output_type": "stream",
     "text": [
      "반복 15036 || Loss: 2.6957 || 10iter: 0.3570 sec.: 100%|██████████| 179/179 [01:59<00:00,  1.49it/s]\n"
     ]
    },
    {
     "name": "stdout",
     "output_type": "stream",
     "text": [
      "epoch 84 || Epoch_TRAIN_Loss:3.1208 ||Epoch_VAL_Loss:0.0000\n",
      "timer:  119.8039 sec.\n",
      "-------------\n",
      "Epoch 85/100\n",
      "-------------\n",
      "(train)\n"
     ]
    },
    {
     "name": "stderr",
     "output_type": "stream",
     "text": [
      "  0%|          | 0/179 [00:00<?, ?it/s]"
     ]
    },
    {
     "name": "stdout",
     "output_type": "stream",
     "text": [
      "179\n"
     ]
    },
    {
     "name": "stderr",
     "output_type": "stream",
     "text": [
      "반복 15215 || Loss: 3.9359 || 10iter: 0.3312 sec.: 100%|██████████| 179/179 [01:58<00:00,  1.51it/s]\n"
     ]
    },
    {
     "name": "stdout",
     "output_type": "stream",
     "text": [
      "epoch 85 || Epoch_TRAIN_Loss:3.0888 ||Epoch_VAL_Loss:0.0000\n",
      "timer:  118.7778 sec.\n",
      "-------------\n",
      "Epoch 86/100\n",
      "-------------\n",
      "(train)\n"
     ]
    },
    {
     "name": "stderr",
     "output_type": "stream",
     "text": [
      "  0%|          | 0/179 [00:00<?, ?it/s]"
     ]
    },
    {
     "name": "stdout",
     "output_type": "stream",
     "text": [
      "179\n"
     ]
    },
    {
     "name": "stderr",
     "output_type": "stream",
     "text": [
      "반복 15394 || Loss: 3.0357 || 10iter: 0.3156 sec.: 100%|██████████| 179/179 [02:00<00:00,  1.49it/s]\n"
     ]
    },
    {
     "name": "stdout",
     "output_type": "stream",
     "text": [
      "epoch 86 || Epoch_TRAIN_Loss:3.0613 ||Epoch_VAL_Loss:0.0000\n",
      "timer:  120.3270 sec.\n",
      "-------------\n",
      "Epoch 87/100\n",
      "-------------\n",
      "(train)\n"
     ]
    },
    {
     "name": "stderr",
     "output_type": "stream",
     "text": [
      "  0%|          | 0/179 [00:00<?, ?it/s]"
     ]
    },
    {
     "name": "stdout",
     "output_type": "stream",
     "text": [
      "179\n"
     ]
    },
    {
     "name": "stderr",
     "output_type": "stream",
     "text": [
      "반복 15573 || Loss: 3.0877 || 10iter: 0.3581 sec.: 100%|██████████| 179/179 [01:58<00:00,  1.51it/s]\n"
     ]
    },
    {
     "name": "stdout",
     "output_type": "stream",
     "text": [
      "epoch 87 || Epoch_TRAIN_Loss:3.0502 ||Epoch_VAL_Loss:0.0000\n",
      "timer:  118.5811 sec.\n",
      "-------------\n",
      "Epoch 88/100\n",
      "-------------\n",
      "(train)\n"
     ]
    },
    {
     "name": "stderr",
     "output_type": "stream",
     "text": [
      "  0%|          | 0/179 [00:00<?, ?it/s]"
     ]
    },
    {
     "name": "stdout",
     "output_type": "stream",
     "text": [
      "179\n"
     ]
    },
    {
     "name": "stderr",
     "output_type": "stream",
     "text": [
      "반복 15752 || Loss: 3.0572 || 10iter: 0.3045 sec.: 100%|██████████| 179/179 [01:58<00:00,  1.51it/s]\n"
     ]
    },
    {
     "name": "stdout",
     "output_type": "stream",
     "text": [
      "epoch 88 || Epoch_TRAIN_Loss:3.0797 ||Epoch_VAL_Loss:0.0000\n",
      "timer:  118.6674 sec.\n",
      "-------------\n",
      "Epoch 89/100\n",
      "-------------\n",
      "(train)\n"
     ]
    },
    {
     "name": "stderr",
     "output_type": "stream",
     "text": [
      "  0%|          | 0/179 [00:00<?, ?it/s]"
     ]
    },
    {
     "name": "stdout",
     "output_type": "stream",
     "text": [
      "179\n"
     ]
    },
    {
     "name": "stderr",
     "output_type": "stream",
     "text": [
      "반복 15931 || Loss: 3.3121 || 10iter: 0.3001 sec.: 100%|██████████| 179/179 [01:59<00:00,  1.50it/s]\n"
     ]
    },
    {
     "name": "stdout",
     "output_type": "stream",
     "text": [
      "epoch 89 || Epoch_TRAIN_Loss:3.0123 ||Epoch_VAL_Loss:0.0000\n",
      "timer:  119.1823 sec.\n",
      "-------------\n",
      "Epoch 90/100\n",
      "-------------\n",
      "(train)\n"
     ]
    },
    {
     "name": "stderr",
     "output_type": "stream",
     "text": [
      "  0%|          | 0/179 [00:00<?, ?it/s]"
     ]
    },
    {
     "name": "stdout",
     "output_type": "stream",
     "text": [
      "179\n"
     ]
    },
    {
     "name": "stderr",
     "output_type": "stream",
     "text": [
      "반복 16110 || Loss: 3.0992 || 10iter: 0.3232 sec.: 100%|██████████| 179/179 [01:59<00:00,  1.49it/s]\n"
     ]
    },
    {
     "name": "stdout",
     "output_type": "stream",
     "text": [
      "-------------\n",
      "(val)\n"
     ]
    },
    {
     "name": "stderr",
     "output_type": "stream",
     "text": [
      "  0%|          | 0/182 [00:00<?, ?it/s]"
     ]
    },
    {
     "name": "stdout",
     "output_type": "stream",
     "text": [
      "182\n"
     ]
    },
    {
     "name": "stderr",
     "output_type": "stream",
     "text": [
      "100%|██████████| 182/182 [00:48<00:00,  3.72it/s]\n"
     ]
    },
    {
     "name": "stdout",
     "output_type": "stream",
     "text": [
      "epoch 90 || Epoch_TRAIN_Loss:3.0269 ||Epoch_VAL_Loss:679.4791\n",
      "timer:  168.8724 sec.\n",
      "-------------\n",
      "Epoch 91/100\n",
      "-------------\n",
      "(train)\n"
     ]
    },
    {
     "name": "stderr",
     "output_type": "stream",
     "text": [
      "  0%|          | 0/179 [00:00<?, ?it/s]"
     ]
    },
    {
     "name": "stdout",
     "output_type": "stream",
     "text": [
      "179\n"
     ]
    },
    {
     "name": "stderr",
     "output_type": "stream",
     "text": [
      "반복 16289 || Loss: 3.5207 || 10iter: 0.3985 sec.: 100%|██████████| 179/179 [02:00<00:00,  1.49it/s]\n"
     ]
    },
    {
     "name": "stdout",
     "output_type": "stream",
     "text": [
      "epoch 91 || Epoch_TRAIN_Loss:3.0235 ||Epoch_VAL_Loss:0.0000\n",
      "timer:  120.1399 sec.\n",
      "-------------\n",
      "Epoch 92/100\n",
      "-------------\n",
      "(train)\n"
     ]
    },
    {
     "name": "stderr",
     "output_type": "stream",
     "text": [
      "  0%|          | 0/179 [00:00<?, ?it/s]"
     ]
    },
    {
     "name": "stdout",
     "output_type": "stream",
     "text": [
      "179\n"
     ]
    },
    {
     "name": "stderr",
     "output_type": "stream",
     "text": [
      "반복 16468 || Loss: 2.9835 || 10iter: 0.3768 sec.: 100%|██████████| 179/179 [02:00<00:00,  1.49it/s]\n"
     ]
    },
    {
     "name": "stdout",
     "output_type": "stream",
     "text": [
      "epoch 92 || Epoch_TRAIN_Loss:2.9956 ||Epoch_VAL_Loss:0.0000\n",
      "timer:  120.3266 sec.\n",
      "-------------\n",
      "Epoch 93/100\n",
      "-------------\n",
      "(train)\n"
     ]
    },
    {
     "name": "stderr",
     "output_type": "stream",
     "text": [
      "  0%|          | 0/179 [00:00<?, ?it/s]"
     ]
    },
    {
     "name": "stdout",
     "output_type": "stream",
     "text": [
      "179\n"
     ]
    },
    {
     "name": "stderr",
     "output_type": "stream",
     "text": [
      "반복 16647 || Loss: 3.0725 || 10iter: 0.3878 sec.: 100%|██████████| 179/179 [01:59<00:00,  1.50it/s]\n"
     ]
    },
    {
     "name": "stdout",
     "output_type": "stream",
     "text": [
      "epoch 93 || Epoch_TRAIN_Loss:3.0042 ||Epoch_VAL_Loss:0.0000\n",
      "timer:  119.7171 sec.\n",
      "-------------\n",
      "Epoch 94/100\n",
      "-------------\n",
      "(train)\n"
     ]
    },
    {
     "name": "stderr",
     "output_type": "stream",
     "text": [
      "  0%|          | 0/179 [00:00<?, ?it/s]"
     ]
    },
    {
     "name": "stdout",
     "output_type": "stream",
     "text": [
      "179\n"
     ]
    },
    {
     "name": "stderr",
     "output_type": "stream",
     "text": [
      "반복 16826 || Loss: 2.8560 || 10iter: 0.3105 sec.: 100%|██████████| 179/179 [02:00<00:00,  1.49it/s]\n"
     ]
    },
    {
     "name": "stdout",
     "output_type": "stream",
     "text": [
      "epoch 94 || Epoch_TRAIN_Loss:3.0030 ||Epoch_VAL_Loss:0.0000\n",
      "timer:  120.2337 sec.\n",
      "-------------\n",
      "Epoch 95/100\n",
      "-------------\n",
      "(train)\n"
     ]
    },
    {
     "name": "stderr",
     "output_type": "stream",
     "text": [
      "  0%|          | 0/179 [00:00<?, ?it/s]"
     ]
    },
    {
     "name": "stdout",
     "output_type": "stream",
     "text": [
      "179\n"
     ]
    },
    {
     "name": "stderr",
     "output_type": "stream",
     "text": [
      "반복 17005 || Loss: 3.1293 || 10iter: 0.2808 sec.: 100%|██████████| 179/179 [02:00<00:00,  1.49it/s]\n"
     ]
    },
    {
     "name": "stdout",
     "output_type": "stream",
     "text": [
      "epoch 95 || Epoch_TRAIN_Loss:2.9697 ||Epoch_VAL_Loss:0.0000\n",
      "timer:  120.3352 sec.\n",
      "-------------\n",
      "Epoch 96/100\n",
      "-------------\n",
      "(train)\n"
     ]
    },
    {
     "name": "stderr",
     "output_type": "stream",
     "text": [
      "  0%|          | 0/179 [00:00<?, ?it/s]"
     ]
    },
    {
     "name": "stdout",
     "output_type": "stream",
     "text": [
      "179\n"
     ]
    },
    {
     "name": "stderr",
     "output_type": "stream",
     "text": [
      "반복 17184 || Loss: 2.9440 || 10iter: 0.3130 sec.: 100%|██████████| 179/179 [01:58<00:00,  1.51it/s]\n"
     ]
    },
    {
     "name": "stdout",
     "output_type": "stream",
     "text": [
      "epoch 96 || Epoch_TRAIN_Loss:2.9924 ||Epoch_VAL_Loss:0.0000\n",
      "timer:  118.8609 sec.\n",
      "-------------\n",
      "Epoch 97/100\n",
      "-------------\n",
      "(train)\n"
     ]
    },
    {
     "name": "stderr",
     "output_type": "stream",
     "text": [
      "  0%|          | 0/179 [00:00<?, ?it/s]"
     ]
    },
    {
     "name": "stdout",
     "output_type": "stream",
     "text": [
      "179\n"
     ]
    },
    {
     "name": "stderr",
     "output_type": "stream",
     "text": [
      "반복 17363 || Loss: 2.5498 || 10iter: 0.3696 sec.: 100%|██████████| 179/179 [02:00<00:00,  1.49it/s]\n"
     ]
    },
    {
     "name": "stdout",
     "output_type": "stream",
     "text": [
      "epoch 97 || Epoch_TRAIN_Loss:2.9714 ||Epoch_VAL_Loss:0.0000\n",
      "timer:  120.1820 sec.\n",
      "-------------\n",
      "Epoch 98/100\n",
      "-------------\n",
      "(train)\n"
     ]
    },
    {
     "name": "stderr",
     "output_type": "stream",
     "text": [
      "  0%|          | 0/179 [00:00<?, ?it/s]"
     ]
    },
    {
     "name": "stdout",
     "output_type": "stream",
     "text": [
      "179\n"
     ]
    },
    {
     "name": "stderr",
     "output_type": "stream",
     "text": [
      "반복 17542 || Loss: 3.3130 || 10iter: 0.3400 sec.: 100%|██████████| 179/179 [01:58<00:00,  1.50it/s]\n"
     ]
    },
    {
     "name": "stdout",
     "output_type": "stream",
     "text": [
      "epoch 98 || Epoch_TRAIN_Loss:2.9521 ||Epoch_VAL_Loss:0.0000\n",
      "timer:  118.9666 sec.\n",
      "-------------\n",
      "Epoch 99/100\n",
      "-------------\n",
      "(train)\n"
     ]
    },
    {
     "name": "stderr",
     "output_type": "stream",
     "text": [
      "  0%|          | 0/179 [00:00<?, ?it/s]"
     ]
    },
    {
     "name": "stdout",
     "output_type": "stream",
     "text": [
      "179\n"
     ]
    },
    {
     "name": "stderr",
     "output_type": "stream",
     "text": [
      "반복 17721 || Loss: 3.1386 || 10iter: 0.3769 sec.: 100%|██████████| 179/179 [02:00<00:00,  1.49it/s]\n"
     ]
    },
    {
     "name": "stdout",
     "output_type": "stream",
     "text": [
      "epoch 99 || Epoch_TRAIN_Loss:2.9556 ||Epoch_VAL_Loss:0.0000\n",
      "timer:  120.2670 sec.\n",
      "-------------\n",
      "Epoch 100/100\n",
      "-------------\n",
      "(train)\n"
     ]
    },
    {
     "name": "stderr",
     "output_type": "stream",
     "text": [
      "  0%|          | 0/179 [00:00<?, ?it/s]"
     ]
    },
    {
     "name": "stdout",
     "output_type": "stream",
     "text": [
      "179\n"
     ]
    },
    {
     "name": "stderr",
     "output_type": "stream",
     "text": [
      "반복 17900 || Loss: 3.3558 || 10iter: 0.4211 sec.: 100%|██████████| 179/179 [01:59<00:00,  1.49it/s]\n"
     ]
    },
    {
     "name": "stdout",
     "output_type": "stream",
     "text": [
      "-------------\n",
      "(val)\n"
     ]
    },
    {
     "name": "stderr",
     "output_type": "stream",
     "text": [
      "  0%|          | 0/182 [00:00<?, ?it/s]"
     ]
    },
    {
     "name": "stdout",
     "output_type": "stream",
     "text": [
      "182\n"
     ]
    },
    {
     "name": "stderr",
     "output_type": "stream",
     "text": [
      "100%|██████████| 182/182 [00:49<00:00,  3.69it/s]\n"
     ]
    },
    {
     "name": "stdout",
     "output_type": "stream",
     "text": [
      "epoch 100 || Epoch_TRAIN_Loss:2.9369 ||Epoch_VAL_Loss:683.2381\n",
      "timer:  169.1683 sec.\n",
      "-------------\n",
      "Epoch 101/100\n",
      "-------------\n",
      "(train)\n"
     ]
    },
    {
     "name": "stderr",
     "output_type": "stream",
     "text": [
      "  0%|          | 0/179 [00:00<?, ?it/s]"
     ]
    },
    {
     "name": "stdout",
     "output_type": "stream",
     "text": [
      "179\n"
     ]
    },
    {
     "name": "stderr",
     "output_type": "stream",
     "text": [
      "반복 18079 || Loss: 3.4510 || 10iter: 0.2954 sec.: 100%|██████████| 179/179 [01:58<00:00,  1.51it/s]"
     ]
    },
    {
     "name": "stdout",
     "output_type": "stream",
     "text": [
      "epoch 101 || Epoch_TRAIN_Loss:2.8967 ||Epoch_VAL_Loss:0.0000\n",
      "timer:  118.9347 sec.\n"
     ]
    },
    {
     "name": "stderr",
     "output_type": "stream",
     "text": [
      "\n"
     ]
    }
   ],
   "source": [
    "# 학습 및 검증 실시\n",
    "num_epochs= 100  \n",
    "train_model(net, dataloaders_dict, criterion, optimizer, num_epochs=num_epochs)"
   ]
  },
  {
   "attachments": {},
   "cell_type": "markdown",
   "metadata": {},
   "source": []
  }
 ],
 "metadata": {
  "kernelspec": {
   "display_name": "Python 3",
   "language": "python",
   "name": "python3"
  },
  "language_info": {
   "codemirror_mode": {
    "name": "ipython",
    "version": 3
   },
   "file_extension": ".py",
   "mimetype": "text/x-python",
   "name": "python",
   "nbconvert_exporter": "python",
   "pygments_lexer": "ipython3",
   "version": "3.10.8"
  }
 },
 "nbformat": 4,
 "nbformat_minor": 4
}
